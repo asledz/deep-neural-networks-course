{
  "nbformat": 4,
  "nbformat_minor": 0,
  "metadata": {
    "colab": {
      "provenance": []
    },
    "kernelspec": {
      "name": "python3",
      "display_name": "Python 3"
    },
    "language_info": {
      "name": "python"
    }
  },
  "cells": [
    {
      "cell_type": "markdown",
      "source": [
        "<center><img src='https://drive.google.com/uc?id=1_utx_ZGclmCwNttSe40kYA6VHzNocdET' height=\"60\"></center>\n",
        "\n",
        "AI TECH - Akademia Innowacyjnych Zastosowań Technologii Cyfrowych. Program Operacyjny Polska Cyfrowa na lata 2014-2020\n",
        "<hr>\n",
        "\n",
        "<center><img src='https://drive.google.com/uc?id=1BXZ0u3562N_MqCLcekI-Ens77Kk4LpPm'></center>\n",
        "\n",
        "<center>\n",
        "Projekt współfinansowany ze środków Unii Europejskiej w ramach Europejskiego Funduszu Rozwoju Regionalnego \n",
        "Program Operacyjny Polska Cyfrowa na lata 2014-2020,\n",
        "Oś Priorytetowa nr 3 \"Cyfrowe kompetencje społeczeństwa\" Działanie  nr 3.2 \"Innowacyjne rozwiązania na rzecz aktywizacji cyfrowej\" \n",
        "Tytuł projektu:  „Akademia Innowacyjnych Zastosowań Technologii Cyfrowych (AI Tech)”\n",
        "    </center>"
      ],
      "metadata": {
        "id": "8esP9SxN0Gy0"
      }
    },
    {
      "cell_type": "markdown",
      "metadata": {
        "id": "zAh8AAYKyGaZ"
      },
      "source": [
        "# TL;DR\n",
        "\n",
        "1. In this lab scenario you will have a chance to compare performance of the classic RNN and LSTM on a toy example. \n",
        "2. This toy example will show that maintaining memory over even 20 steps is non-trivial. \n",
        "3. Finally, you will see how curriculum learning may allow to train a model on larger sequences.\n",
        "\n",
        "# Problem definition\n",
        "\n",
        "Here we consider a toy example, where the goal is to discriminate between two types of binary sequences:\n",
        "* [Type 0] a sequence with exactly one zero (remaining entries are equal to one).\n",
        "* [Type 1] a sequence full of ones,\n",
        "\n",
        "We are especially interested in the performance of the trained models on discriminating between a sequence full of ones versus a sequence with leading zero followed by ones. Note that in this case the goal of the model is to output the first element of the sequence, as the label (sequence type) is fully determined by the first element of the sequence."
      ]
    },
    {
      "cell_type": "markdown",
      "metadata": {
        "id": "w89kJcvtzNRm"
      },
      "source": [
        "#Implementation"
      ]
    },
    {
      "cell_type": "markdown",
      "metadata": {
        "id": "1WyKOni1OEiS"
      },
      "source": [
        "## Importing torch\n",
        "\n",
        "Install `torch` and `torchvision`"
      ]
    },
    {
      "cell_type": "code",
      "metadata": {
        "colab": {
          "base_uri": "https://localhost:8080/"
        },
        "id": "lFlmFfiPN1hI",
        "outputId": "e63caa58-1685-43ac-9a22-ccb58ba410e9"
      },
      "source": [
        "!pip3 install torch torchvision"
      ],
      "execution_count": null,
      "outputs": [
        {
          "output_type": "stream",
          "text": [
            "Requirement already satisfied: torch in /usr/local/lib/python3.7/dist-packages (1.8.1+cu101)\n",
            "Requirement already satisfied: torchvision in /usr/local/lib/python3.7/dist-packages (0.9.1+cu101)\n",
            "Requirement already satisfied: numpy in /usr/local/lib/python3.7/dist-packages (from torch) (1.19.5)\n",
            "Requirement already satisfied: typing-extensions in /usr/local/lib/python3.7/dist-packages (from torch) (3.7.4.3)\n",
            "Requirement already satisfied: pillow>=4.1.1 in /usr/local/lib/python3.7/dist-packages (from torchvision) (7.1.2)\n"
          ],
          "name": "stdout"
        }
      ]
    },
    {
      "cell_type": "code",
      "metadata": {
        "colab": {
          "base_uri": "https://localhost:8080/"
        },
        "id": "kRYUIgJLOa6X",
        "outputId": "694df222-5dc3-4906-992b-5ba8d7fa7548"
      },
      "source": [
        "import torch\n",
        "import torch.nn as nn\n",
        "import torch.optim as optim\n",
        "import torch.nn.functional as F\n",
        "\n",
        "torch.manual_seed(1)"
      ],
      "execution_count": null,
      "outputs": [
        {
          "output_type": "execute_result",
          "data": {
            "text/plain": [
              "<torch._C.Generator at 0x7f86769ae7d0>"
            ]
          },
          "metadata": {
            "tags": []
          },
          "execution_count": 2
        }
      ]
    },
    {
      "cell_type": "markdown",
      "metadata": {
        "id": "eMfnsxS4zdp9"
      },
      "source": [
        "## Understand dimensionality\n",
        "\n",
        "Check the input and output specification [LSTM](https://pytorch.org/docs/stable/generated/torch.nn.LSTM.html) and [RNN](https://pytorch.org/docs/stable/generated/torch.nn.RNN.html). The following snippet shows how we can process\n",
        "a sequence by LSTM and output a vector of size `hidden_dim` after reading\n",
        "each token of the sequence. "
      ]
    },
    {
      "cell_type": "code",
      "metadata": {
        "colab": {
          "base_uri": "https://localhost:8080/"
        },
        "id": "s_MMm1AaObmg",
        "outputId": "252c8112-4b92-4899-a078-0541ba390710"
      },
      "source": [
        "hidden_dim = 5\n",
        "lstm = nn.LSTM(1, hidden_dim)  # Input sequence contains elements - vectors of size 1\n",
        "\n",
        "# create a random sequence\n",
        "sequence = [torch.randn(1) for _ in range(10)]\n",
        "\n",
        "# initialize the hidden state (including cell state)\n",
        "hidden = (torch.zeros(1, 1, 5),\n",
        "          torch.zeros(1, 1, 5))\n",
        "\n",
        "for i, elem in enumerate(sequence):\n",
        "  # we are processing only a single element of the sequence, and there\n",
        "  # is only one sample (sequence) in the batch, the third one\n",
        "  # corresponds to the fact that our sequence contains elemenents,\n",
        "  # which can be treated as vectors of size 1\n",
        "  out, hidden = lstm(elem.view(1, 1, 1), hidden)\n",
        "  print(f'i={i} out={out.detach()}')\n",
        "print(f'Final hidden state={hidden[0].detach()} cell state={hidden[1].detach()}')"
      ],
      "execution_count": null,
      "outputs": [
        {
          "output_type": "stream",
          "text": [
            "i=0 out=tensor([[[-0.0675,  0.1179,  0.1081,  0.0414, -0.0341]]])\n",
            "i=1 out=tensor([[[-0.1067,  0.1726,  0.1400,  0.0902, -0.0596]]])\n",
            "i=2 out=tensor([[[-0.1148,  0.1885,  0.1956,  0.0974, -0.0840]]])\n",
            "i=3 out=tensor([[[-0.1270,  0.2031,  0.1495,  0.1249, -0.0860]]])\n",
            "i=4 out=tensor([[[-0.1281,  0.2019,  0.1810,  0.1475, -0.1027]]])\n",
            "i=5 out=tensor([[[-0.1274,  0.2060,  0.0798,  0.1330, -0.0860]]])\n",
            "i=6 out=tensor([[[-0.1318,  0.2039,  0.0997,  0.1772, -0.1011]]])\n",
            "i=7 out=tensor([[[-0.1145,  0.2008, -0.0431,  0.1051, -0.0717]]])\n",
            "i=8 out=tensor([[[-0.1289,  0.1989,  0.0515,  0.1944, -0.1030]]])\n",
            "i=9 out=tensor([[[-0.1329,  0.1920,  0.0686,  0.1772, -0.0988]]])\n",
            "Final hidden state=tensor([[[-0.1329,  0.1920,  0.0686,  0.1772, -0.0988]]]) cell state=tensor([[[-0.2590,  0.4080,  0.1307,  0.4329, -0.2895]]])\n"
          ],
          "name": "stdout"
        }
      ]
    },
    {
      "cell_type": "markdown",
      "metadata": {
        "id": "Ph3iyjw_8F30"
      },
      "source": [
        "## To implement\n",
        "\n",
        "Process the whole sequence all at once by calling `lstm` only once and check that the output is exactly the same as above (remember to initialize the hidden state the same way)."
      ]
    },
    {
      "cell_type": "code",
      "metadata": {
        "id": "tFtxYqla8bJM"
      },
      "source": [
        "# #########################################################\n",
        "#                    To implement\n",
        "# #########################################################\n"
      ],
      "execution_count": null,
      "outputs": []
    },
    {
      "cell_type": "markdown",
      "metadata": {
        "id": "9VAUJUhx9EAC"
      },
      "source": [
        "## Training a model\n",
        "\n",
        "Below we define a very simple model, which is a single layer of LSTM, where the output in each time step is processed by relu followed by a single fully connected layer, the output of which is a single number. We are going\n",
        "to use the number generated after reading the last element of the sequence,\n",
        "which will serve as the logit for our classification problem."
      ]
    },
    {
      "cell_type": "code",
      "metadata": {
        "id": "qncNRKMNOh9h"
      },
      "source": [
        "class Model(nn.Module):\n",
        "\n",
        "    def __init__(self, hidden_dim):\n",
        "        super(Model, self).__init__()\n",
        "        self.hidden_dim = hidden_dim\n",
        "        self.lstm = nn.LSTM(1, self.hidden_dim)\n",
        "        self.hidden2label = nn.Linear(hidden_dim, 1)\n",
        "\n",
        "    def forward(self, x):\n",
        "        out, _ = self.lstm(x)\n",
        "        sequence_len = x.shape[0]\n",
        "        logits = self.hidden2label(F.relu(out[-1].view(-1)))\n",
        "        return logits"
      ],
      "execution_count": null,
      "outputs": []
    },
    {
      "cell_type": "markdown",
      "metadata": {
        "id": "IF4r0AUu9g6a"
      },
      "source": [
        "Below is a training loop, where we only train on the two hardest examples."
      ]
    },
    {
      "cell_type": "code",
      "metadata": {
        "id": "gTaCFMBBOkOp"
      },
      "source": [
        "SEQUENCE_LEN = 10\n",
        "\n",
        "# Pairs of (sequence, label)\n",
        "HARD_EXAMPLES = [([0.]+(SEQUENCE_LEN-1)*[1.], 0),\n",
        "                 (SEQUENCE_LEN*[1.], 1)]\n",
        "\n",
        "\n",
        "def eval_on_hard_examples(model):\n",
        "    with torch.no_grad():\n",
        "        logits = []\n",
        "        for sequence in HARD_EXAMPLES:\n",
        "            input = torch.tensor(sequence[0]).view(-1, 1, 1)\n",
        "            logit = model(input)\n",
        "            logits.append(logit.detach())\n",
        "        print(f'Logits for hard examples={logits}')\n",
        "\n",
        "\n",
        "def train_model(hidden_dim, lr, num_steps=10000):\n",
        "    model = Model(hidden_dim=hidden_dim)\n",
        "    loss_function = nn.BCEWithLogitsLoss()\n",
        "    optimizer = optim.SGD(model.parameters(), lr=lr, momentum=0.99)\n",
        "\n",
        "    for step in range(num_steps):  \n",
        "        if step % 100 == 0:\n",
        "            eval_on_hard_examples(model)\n",
        "\n",
        "        for sequence, label in HARD_EXAMPLES:\n",
        "            model.zero_grad()\n",
        "            logit = model(torch.tensor(sequence).view(-1, 1, 1))  \n",
        "            \n",
        "            loss = loss_function(logit.view(-1), torch.tensor([label], dtype=torch.float32))\n",
        "            loss.backward()\n",
        "\n",
        "            optimizer.step()   "
      ],
      "execution_count": null,
      "outputs": []
    },
    {
      "cell_type": "code",
      "metadata": {
        "colab": {
          "base_uri": "https://localhost:8080/",
          "height": 592
        },
        "id": "wVHU71P5EWsm",
        "outputId": "ab6fc9ba-e957-4bfe-88ba-7087614b5998"
      },
      "source": [
        "train_model(hidden_dim=20, lr=0.01, num_steps=10000)"
      ],
      "execution_count": null,
      "outputs": [
        {
          "output_type": "stream",
          "text": [
            "Logits for hard examples=[tensor([-0.1775]), tensor([-0.1774])]\n",
            "Logits for hard examples=[tensor([0.0095]), tensor([0.0097])]\n",
            "Logits for hard examples=[tensor([0.0259]), tensor([0.0263])]\n",
            "Logits for hard examples=[tensor([-0.0017]), tensor([-0.0009])]\n",
            "Logits for hard examples=[tensor([-0.0034]), tensor([7.1838e-05])]\n",
            "Logits for hard examples=[tensor([-3.0632]), tensor([3.5531])]\n",
            "Logits for hard examples=[tensor([-11.0094]), tensor([10.8645])]\n",
            "Logits for hard examples=[tensor([-12.1567]), tensor([11.9191])]\n",
            "Logits for hard examples=[tensor([-12.3136]), tensor([12.0644])]\n",
            "Logits for hard examples=[tensor([-12.3368]), tensor([12.0874])]\n",
            "Logits for hard examples=[tensor([-12.3420]), tensor([12.0939])]\n",
            "Logits for hard examples=[tensor([-12.3448]), tensor([12.0982])]\n",
            "Logits for hard examples=[tensor([-12.3473]), tensor([12.1022])]\n",
            "Logits for hard examples=[tensor([-12.3498]), tensor([12.1062])]\n",
            "Logits for hard examples=[tensor([-12.3523]), tensor([12.1101])]\n"
          ],
          "name": "stdout"
        },
        {
          "output_type": "error",
          "ename": "KeyboardInterrupt",
          "evalue": "ignored",
          "traceback": [
            "\u001b[0;31m---------------------------------------------------------------------------\u001b[0m",
            "\u001b[0;31mKeyboardInterrupt\u001b[0m                         Traceback (most recent call last)",
            "\u001b[0;32m<ipython-input-7-21d947fa54e7>\u001b[0m in \u001b[0;36m<module>\u001b[0;34m()\u001b[0m\n\u001b[0;32m----> 1\u001b[0;31m \u001b[0mtrain_model\u001b[0m\u001b[0;34m(\u001b[0m\u001b[0mhidden_dim\u001b[0m\u001b[0;34m=\u001b[0m\u001b[0;36m20\u001b[0m\u001b[0;34m,\u001b[0m \u001b[0mlr\u001b[0m\u001b[0;34m=\u001b[0m\u001b[0;36m0.01\u001b[0m\u001b[0;34m,\u001b[0m \u001b[0mnum_steps\u001b[0m\u001b[0;34m=\u001b[0m\u001b[0;36m10000\u001b[0m\u001b[0;34m)\u001b[0m\u001b[0;34m\u001b[0m\u001b[0;34m\u001b[0m\u001b[0m\n\u001b[0m",
            "\u001b[0;32m<ipython-input-6-e0f36aa369a0>\u001b[0m in \u001b[0;36mtrain_model\u001b[0;34m(hidden_dim, lr, num_steps)\u001b[0m\n\u001b[1;32m     30\u001b[0m \u001b[0;34m\u001b[0m\u001b[0m\n\u001b[1;32m     31\u001b[0m             \u001b[0mloss\u001b[0m \u001b[0;34m=\u001b[0m \u001b[0mloss_function\u001b[0m\u001b[0;34m(\u001b[0m\u001b[0mlogit\u001b[0m\u001b[0;34m.\u001b[0m\u001b[0mview\u001b[0m\u001b[0;34m(\u001b[0m\u001b[0;34m-\u001b[0m\u001b[0;36m1\u001b[0m\u001b[0;34m)\u001b[0m\u001b[0;34m,\u001b[0m \u001b[0mtorch\u001b[0m\u001b[0;34m.\u001b[0m\u001b[0mtensor\u001b[0m\u001b[0;34m(\u001b[0m\u001b[0;34m[\u001b[0m\u001b[0mlabel\u001b[0m\u001b[0;34m]\u001b[0m\u001b[0;34m,\u001b[0m \u001b[0mdtype\u001b[0m\u001b[0;34m=\u001b[0m\u001b[0mtorch\u001b[0m\u001b[0;34m.\u001b[0m\u001b[0mfloat32\u001b[0m\u001b[0;34m)\u001b[0m\u001b[0;34m)\u001b[0m\u001b[0;34m\u001b[0m\u001b[0;34m\u001b[0m\u001b[0m\n\u001b[0;32m---> 32\u001b[0;31m             \u001b[0mloss\u001b[0m\u001b[0;34m.\u001b[0m\u001b[0mbackward\u001b[0m\u001b[0;34m(\u001b[0m\u001b[0;34m)\u001b[0m\u001b[0;34m\u001b[0m\u001b[0;34m\u001b[0m\u001b[0m\n\u001b[0m\u001b[1;32m     33\u001b[0m \u001b[0;34m\u001b[0m\u001b[0m\n\u001b[1;32m     34\u001b[0m             \u001b[0moptimizer\u001b[0m\u001b[0;34m.\u001b[0m\u001b[0mstep\u001b[0m\u001b[0;34m(\u001b[0m\u001b[0;34m)\u001b[0m\u001b[0;34m\u001b[0m\u001b[0;34m\u001b[0m\u001b[0m\n",
            "\u001b[0;32m/usr/local/lib/python3.7/dist-packages/torch/tensor.py\u001b[0m in \u001b[0;36mbackward\u001b[0;34m(self, gradient, retain_graph, create_graph, inputs)\u001b[0m\n\u001b[1;32m    243\u001b[0m                 \u001b[0mcreate_graph\u001b[0m\u001b[0;34m=\u001b[0m\u001b[0mcreate_graph\u001b[0m\u001b[0;34m,\u001b[0m\u001b[0;34m\u001b[0m\u001b[0;34m\u001b[0m\u001b[0m\n\u001b[1;32m    244\u001b[0m                 inputs=inputs)\n\u001b[0;32m--> 245\u001b[0;31m         \u001b[0mtorch\u001b[0m\u001b[0;34m.\u001b[0m\u001b[0mautograd\u001b[0m\u001b[0;34m.\u001b[0m\u001b[0mbackward\u001b[0m\u001b[0;34m(\u001b[0m\u001b[0mself\u001b[0m\u001b[0;34m,\u001b[0m \u001b[0mgradient\u001b[0m\u001b[0;34m,\u001b[0m \u001b[0mretain_graph\u001b[0m\u001b[0;34m,\u001b[0m \u001b[0mcreate_graph\u001b[0m\u001b[0;34m,\u001b[0m \u001b[0minputs\u001b[0m\u001b[0;34m=\u001b[0m\u001b[0minputs\u001b[0m\u001b[0;34m)\u001b[0m\u001b[0;34m\u001b[0m\u001b[0;34m\u001b[0m\u001b[0m\n\u001b[0m\u001b[1;32m    246\u001b[0m \u001b[0;34m\u001b[0m\u001b[0m\n\u001b[1;32m    247\u001b[0m     \u001b[0;32mdef\u001b[0m \u001b[0mregister_hook\u001b[0m\u001b[0;34m(\u001b[0m\u001b[0mself\u001b[0m\u001b[0;34m,\u001b[0m \u001b[0mhook\u001b[0m\u001b[0;34m)\u001b[0m\u001b[0;34m:\u001b[0m\u001b[0;34m\u001b[0m\u001b[0;34m\u001b[0m\u001b[0m\n",
            "\u001b[0;32m/usr/local/lib/python3.7/dist-packages/torch/autograd/__init__.py\u001b[0m in \u001b[0;36mbackward\u001b[0;34m(tensors, grad_tensors, retain_graph, create_graph, grad_variables, inputs)\u001b[0m\n\u001b[1;32m    145\u001b[0m     Variable._execution_engine.run_backward(\n\u001b[1;32m    146\u001b[0m         \u001b[0mtensors\u001b[0m\u001b[0;34m,\u001b[0m \u001b[0mgrad_tensors_\u001b[0m\u001b[0;34m,\u001b[0m \u001b[0mretain_graph\u001b[0m\u001b[0;34m,\u001b[0m \u001b[0mcreate_graph\u001b[0m\u001b[0;34m,\u001b[0m \u001b[0minputs\u001b[0m\u001b[0;34m,\u001b[0m\u001b[0;34m\u001b[0m\u001b[0;34m\u001b[0m\u001b[0m\n\u001b[0;32m--> 147\u001b[0;31m         allow_unreachable=True, accumulate_grad=True)  # allow_unreachable flag\n\u001b[0m\u001b[1;32m    148\u001b[0m \u001b[0;34m\u001b[0m\u001b[0m\n\u001b[1;32m    149\u001b[0m \u001b[0;34m\u001b[0m\u001b[0m\n",
            "\u001b[0;31mKeyboardInterrupt\u001b[0m: "
          ]
        }
      ]
    },
    {
      "cell_type": "markdown",
      "metadata": {
        "id": "2Lt7dRkJDfqd"
      },
      "source": [
        "## To implement\n",
        "\n",
        "1. Check for what values of `SEQUENCE_LEN` the model is able to discriminate betweeh the two hard examples (after training).\n",
        "2. Instead of training on `HARD_EXAMPLES` only, modify the training loop to train on sequences where zero may be in any position of the sequence (so any valid sequence of `Type 0`, not just the hardest one). After modifying the training loop check for what values of `SEQUENCE_LEN` you can train the model successfully.\n",
        "3. Replace LSTM by a classic RNN and check for what values of `SEQUENCE_LEN` you can train the model successfully.\n",
        "4. Write a proper curricullum learning loop, where in a loop you consider longer and longer sequences, where expansion of the sequence length happens only after the model is trained successfully on the current length.\n",
        "\n",
        "Note that for steps 2-4 you may need to change the value of `num_steps`.\n"
      ]
    }
  ]
}
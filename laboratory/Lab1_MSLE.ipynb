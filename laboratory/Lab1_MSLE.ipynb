{
 "nbformat": 4,
 "nbformat_minor": 0,
 "metadata": {
  "kernelspec": {
   "name": "python3",
   "display_name": "Python 3"
  },
  "colab": {
   "provenance": [],
   "collapsed_sections": []
  }
 },
 "cells": [
  {
   "cell_type": "markdown",
   "metadata": {
    "id": "VqdiMxZx-EoD"
   },
   "source": [
    "# Linear regression \n",
    "\n",
    "In this exercise you will use linear regression to predict flat prices. Training will be handled via gradient descent and we will:\n",
    "* have multiple features (i.e. variables used to make the prediction),\n",
    "* employ some basic feature engineering,\n",
    "* work with a non-standard loss function.\n",
    "\n",
    "Let's start with getting the data."
   ]
  },
  {
   "cell_type": "code",
   "metadata": {
    "id": "heeKjQ2r-EoH",
    "colab": {
     "base_uri": "https://localhost:8080/"
    },
    "outputId": "979a639f-3ece-457b-df17-104c64305a57"
   },
   "source": [
    "%matplotlib inline\n",
    "\n",
    "!wget -O dataset/mieszkania.csv https://www.dropbox.com/s/zey0gx91pna8irj/mieszkania.csv?dl=1\n",
    "!wget -O dataset/mieszkania_test.csv https://www.dropbox.com/s/dbrj6sbxb4ayqjz/mieszkania_test.csv?dl=1"
   ],
   "execution_count": 2,
   "outputs": [
    {
     "name": "stdout",
     "output_type": "stream",
     "text": [
      "--2022-10-23 18:51:38--  https://www.dropbox.com/s/zey0gx91pna8irj/mieszkania.csv?dl=1\r\n",
      "Loaded CA certificate '/etc/ssl/certs/ca-certificates.crt'\r\n",
      "Resolving www.dropbox.com (www.dropbox.com)... 2620:100:6022:18::a27d:4212, 162.125.66.18\r\n",
      "Connecting to www.dropbox.com (www.dropbox.com)|2620:100:6022:18::a27d:4212|:443... connected.\r\n",
      "HTTP request sent, awaiting response... 302 Found\r\n",
      "Location: /s/dl/zey0gx91pna8irj/mieszkania.csv [following]\r\n",
      "--2022-10-23 18:51:39--  https://www.dropbox.com/s/dl/zey0gx91pna8irj/mieszkania.csv\r\n",
      "Reusing existing connection to [www.dropbox.com]:443.\r\n",
      "HTTP request sent, awaiting response... 302 Found\r\n",
      "Location: https://ucdb9faaa8d028cd12b26a771196.dl.dropboxusercontent.com/cd/0/get/BvWuI_PoPCnHuAA8Up9C1OXqKJQHKyY5XqyNDcubiGsoB9VE4a5NvwlRr9H8kkQQ7S3uENuK360DHYE0dw44514rMIT5NbKTci-VKMTaz_a04JSVd_wjFMevs3Bw4byNY5rbMS0l-YrqYKAkC_N1_9fWSoQZuGR5-DaK7woHF0589Q/file?dl=1# [following]\r\n",
      "--2022-10-23 18:51:39--  https://ucdb9faaa8d028cd12b26a771196.dl.dropboxusercontent.com/cd/0/get/BvWuI_PoPCnHuAA8Up9C1OXqKJQHKyY5XqyNDcubiGsoB9VE4a5NvwlRr9H8kkQQ7S3uENuK360DHYE0dw44514rMIT5NbKTci-VKMTaz_a04JSVd_wjFMevs3Bw4byNY5rbMS0l-YrqYKAkC_N1_9fWSoQZuGR5-DaK7woHF0589Q/file?dl=1\r\n",
      "Resolving ucdb9faaa8d028cd12b26a771196.dl.dropboxusercontent.com (ucdb9faaa8d028cd12b26a771196.dl.dropboxusercontent.com)... 2620:100:6022:15::a27d:420f, 162.125.66.15\r\n",
      "Connecting to ucdb9faaa8d028cd12b26a771196.dl.dropboxusercontent.com (ucdb9faaa8d028cd12b26a771196.dl.dropboxusercontent.com)|2620:100:6022:15::a27d:420f|:443... connected.\r\n",
      "HTTP request sent, awaiting response... 200 OK\r\n",
      "Length: 6211 (6.1K) [application/binary]\r\n",
      "Saving to: ‘dataset/mieszkania.csv’\r\n",
      "\r\n",
      "dataset/mieszkania. 100%[===================>]   6.07K  --.-KB/s    in 0s      \r\n",
      "\r\n",
      "2022-10-23 18:51:39 (166 MB/s) - ‘dataset/mieszkania.csv’ saved [6211/6211]\r\n",
      "\r\n",
      "--2022-10-23 18:51:40--  https://www.dropbox.com/s/dbrj6sbxb4ayqjz/mieszkania_test.csv?dl=1\r\n",
      "Loaded CA certificate '/etc/ssl/certs/ca-certificates.crt'\r\n",
      "Resolving www.dropbox.com (www.dropbox.com)... 2620:100:6022:18::a27d:4212, 162.125.66.18\r\n",
      "Connecting to www.dropbox.com (www.dropbox.com)|2620:100:6022:18::a27d:4212|:443... connected.\r\n",
      "HTTP request sent, awaiting response... 302 Found\r\n",
      "Location: /s/dl/dbrj6sbxb4ayqjz/mieszkania_test.csv [following]\r\n",
      "--2022-10-23 18:51:40--  https://www.dropbox.com/s/dl/dbrj6sbxb4ayqjz/mieszkania_test.csv\r\n",
      "Reusing existing connection to [www.dropbox.com]:443.\r\n",
      "HTTP request sent, awaiting response... 302 Found\r\n",
      "Location: https://ucab35eddc7ada47c9634da3cb1d.dl.dropboxusercontent.com/cd/0/get/BvW8YsZmy1ntezZUm6SuJU6WTO7JQ416FIgaKr__hz5inV7baL9bJG26hfSBSNLsr2PYvSHAFGqlv4VCpIj7-pW2nesKnhqbknL6vwIWRPR6jJB45wTaheNXmV_dSazyySOSb7Eio9FJZYUoJtlNf-kygKFfoMVvJ2upjtoLdLZ3bQ/file?dl=1# [following]\r\n",
      "--2022-10-23 18:51:40--  https://ucab35eddc7ada47c9634da3cb1d.dl.dropboxusercontent.com/cd/0/get/BvW8YsZmy1ntezZUm6SuJU6WTO7JQ416FIgaKr__hz5inV7baL9bJG26hfSBSNLsr2PYvSHAFGqlv4VCpIj7-pW2nesKnhqbknL6vwIWRPR6jJB45wTaheNXmV_dSazyySOSb7Eio9FJZYUoJtlNf-kygKFfoMVvJ2upjtoLdLZ3bQ/file?dl=1\r\n",
      "Resolving ucab35eddc7ada47c9634da3cb1d.dl.dropboxusercontent.com (ucab35eddc7ada47c9634da3cb1d.dl.dropboxusercontent.com)... 2620:100:6022:15::a27d:420f, 162.125.66.15\r\n",
      "Connecting to ucab35eddc7ada47c9634da3cb1d.dl.dropboxusercontent.com (ucab35eddc7ada47c9634da3cb1d.dl.dropboxusercontent.com)|2620:100:6022:15::a27d:420f|:443... connected.\r\n",
      "HTTP request sent, awaiting response... 200 OK\r\n",
      "Length: 6247 (6.1K) [application/binary]\r\n",
      "Saving to: ‘dataset/mieszkania_test.csv’\r\n",
      "\r\n",
      "dataset/mieszkania_ 100%[===================>]   6.10K  --.-KB/s    in 0s      \r\n",
      "\r\n",
      "2022-10-23 18:51:41 (170 MB/s) - ‘dataset/mieszkania_test.csv’ saved [6247/6247]\r\n",
      "\r\n"
     ]
    }
   ]
  },
  {
   "cell_type": "code",
   "metadata": {
    "id": "yI9wFXv5-EoP",
    "colab": {
     "base_uri": "https://localhost:8080/"
    },
    "outputId": "6f136179-353d-408f-91e4-1e2301222bb2"
   },
   "source": [
    "!head dataset/mieszkania.csv dataset/mieszkania_test.csv"
   ],
   "execution_count": 4,
   "outputs": [
    {
     "name": "stdout",
     "output_type": "stream",
     "text": [
      "==> dataset/mieszkania.csv <==\r\n",
      "m2,dzielnica,ilość_sypialni,ilość_łazienek,rok_budowy,parking_podziemny,cena\r\n",
      "104,mokotowo,2,2,1940,1,780094\r\n",
      "43,ochotowo,1,1,1970,1,346912\r\n",
      "128,grodziskowo,3,2,1916,1,523466\r\n",
      "112,mokotowo,3,2,1920,1,830965\r\n",
      "149,mokotowo,3,3,1977,0,1090479\r\n",
      "80,ochotowo,2,2,1937,0,599060\r\n",
      "58,ochotowo,2,1,1922,0,463639\r\n",
      "23,ochotowo,1,1,1929,0,166785\r\n",
      "40,mokotowo,1,1,1973,0,318849\r\n",
      "\r\n",
      "==> dataset/mieszkania_test.csv <==\r\n",
      "m2,dzielnica,ilość_sypialni,ilość_łazienek,rok_budowy,parking_podziemny,cena\r\n",
      "71,wolowo,2,2,1912,1,322227\r\n",
      "45,mokotowo,1,1,1938,0,295878\r\n",
      "38,mokotowo,1,1,1999,1,306530\r\n",
      "70,ochotowo,2,2,1980,1,553641\r\n",
      "136,mokotowo,3,2,1939,1,985348\r\n",
      "128,wolowo,3,2,1983,1,695726\r\n",
      "23,grodziskowo,1,1,1975,0,99751\r\n",
      "117,mokotowo,3,2,1942,0,891261\r\n",
      "65,ochotowo,2,1,2002,1,536499\r\n"
     ]
    }
   ]
  },
  {
   "cell_type": "code",
   "execution_count": 11,
   "outputs": [],
   "source": [
    "### Prepare data ###\n",
    "import pandas\n",
    "import numpy\n",
    "\n",
    "# Open the data from csv and create dummy rows\n",
    "\n",
    "train_data_without_dummies = pandas.read_csv('dataset/mieszkania.csv')\n",
    "test_data_without_dummies = pandas.read_csv('dataset/mieszkania_test.csv')\n",
    "\n",
    "train_data = pandas.get_dummies(train_data_without_dummies, prefix='dzielnica')\n",
    "test_data = pandas.get_dummies(test_data_without_dummies, prefix='dzielnica')\n",
    "\n",
    "total = pandas.concat([train_data, test_data])"
   ],
   "metadata": {
    "collapsed": false
   }
  },
  {
   "cell_type": "markdown",
   "metadata": {
    "id": "iH8Ut02G-EoU"
   },
   "source": [
    "Each row in the data represents a separate property. Our goal is to use the data from `mieszkania.csv` to create a model that can predict a property's price (i.e. `cena`) given its features (i.e. `m2,dzielnica,ilosc_sypialni,ilosc_lazienek,rok_budowy,parking_podziemny`). \n",
    "\n",
    "From now on, we should interfere only with `mieszkania.csv` (dubbed the training dataset) to make our decisions and create the model. The (only) purpose of `mieszkania_test.csv` is to test our model on **unseen** data.\n",
    "\n",
    "Our predictions should minimize the so-called mean squared logarithmic error:\n",
    "$$\n",
    "MSLE = \\frac{1}{n} \\sum_{i=1}^n (\\log(1+y_i) - \\log(1+p_i))^2,\n",
    "$$\n",
    "where $y_i$ is the ground truth, and $p_i$ is our prediction."
   ]
  },
  {
   "cell_type": "markdown",
   "metadata": {
    "id": "y8QX6Ncr-EoW"
   },
   "source": [
    "Let's start with implementing the loss function."
   ]
  },
  {
   "cell_type": "code",
   "metadata": {
    "id": "JAiB8S9A-EoX"
   },
   "source": [
    "### Mean squared logarithmic error ###\n",
    "\n",
    "def msle(ys, ps):\n",
    "    assert len(ys) == len(ps)\n",
    "    msle_sum = 0\n",
    "    \n",
    "    for i in range(len(ys)):\n",
    "      yi = ys[i]\n",
    "      pi = ps[i]\n",
    "\n",
    "      msle_sum = msle_sum + (numpy.log(1+yi) - numpy.log(1+pi)) ** 2\n",
    "    return msle_sum / len(ys)"
   ],
   "execution_count": 95,
   "outputs": []
  },
  {
   "cell_type": "markdown",
   "metadata": {
    "id": "zAmd2qLR-Eob"
   },
   "source": [
    "The simplest model is predicting the same constant for each instance. Test your implementation of msle against outputing the mean price."
   ]
  },
  {
   "cell_type": "code",
   "metadata": {
    "id": "b0RT7VW7-Eoc",
    "colab": {
     "base_uri": "https://localhost:8080/"
    },
    "outputId": "80405129-4194-445b-9051-7c91b2daafe2"
   },
   "source": [
    "### Msle for outputing the mean price ###\n",
    "\n",
    "n = len(train_data[\"cena\"])\n",
    "\n",
    "### Mean price\n",
    "train_mean = numpy.mean(train_data[\"cena\"])\n",
    "print(\"Mean price of a flat from the training dataset: \", train_mean)\n",
    "\n",
    "### MSLE for train set\n",
    "trainset_msle = msle(train_data[\"cena\"], [train_mean] * n)\n",
    "print(\"MSLE for the train set is: \", trainset_msle)\n",
    "\n",
    "### MSLE for test set\n",
    "testset_msle = msle(test_data[\"cena\"], [train_mean] * n)\n",
    "print(\"MSLE for the test set is: \", testset_msle)\n"
   ],
   "execution_count": 96,
   "outputs": [
    {
     "name": "stdout",
     "output_type": "stream",
     "text": [
      "Mean price of a flat from the training dataset:  507919.49\n",
      "MSLE for the train set is:  0.3915253538257009\n",
      "MSLE for the test set is:  0.4284115392580848\n"
     ]
    }
   ]
  },
  {
   "cell_type": "markdown",
   "metadata": {
    "id": "a0zMmTiv-Eof"
   },
   "source": [
    "Recall that outputing the mean minimzes $MSE$. However, we're now dealing with $MSLE$.\n",
    "\n",
    "Think of a constant that should result in the lowest $MSLE$."
   ]
  },
  {
   "cell_type": "code",
   "metadata": {
    "id": "Q0Z4drNd-Eog",
    "colab": {
     "base_uri": "https://localhost:8080/"
    },
    "outputId": "6cbc5e3c-e2fe-4484-fa49-679726feed3a"
   },
   "source": [
    "### Minimalizing MSLE ###\n",
    "\n",
    "# On paper - calculate the derivative of MSLE, check where it has a 0.\n",
    "# const p = exp ((sum (log 1 + y_i)) / n) - 1\n",
    "# TODO: add photo here from the class\n",
    "\n",
    "sum = 0\n",
    "for i in range(n):\n",
    "  sum = sum + numpy.log(1 + train_data[\"cena\"][i])\n",
    "\n",
    "minimizing_msle = numpy.exp(sum/n) - 1\n",
    "\n",
    "print(\"Minimizing value from calculating the derivative: \", minimizing_msle)\n",
    "\n",
    "trainset_msle_derrivative = msle(train_data[\"cena\"], [minimizing_msle] * n)\n",
    "testset_msle_derrivative = msle(test_data[\"cena\"], [minimizing_msle] * n)\n",
    "\n",
    "print(\"MSLE for the train set & derivative is: \", trainset_msle_derrivative)\n",
    "print(\"MSLE for the test set & derivative is: \", testset_msle_derrivative)"
   ],
   "execution_count": 97,
   "outputs": [
    {
     "name": "stdout",
     "output_type": "stream",
     "text": [
      "Minimizing value from calculating the derivative:  431435.49158234044\n",
      "MSLE for the train set & derivative is:  0.3648896122133587\n",
      "MSLE for the test set & derivative is:  0.42757520337601745\n"
     ]
    }
   ]
  },
  {
   "cell_type": "markdown",
   "metadata": {
    "id": "2RdHlBw8-Eoi"
   },
   "source": [
    "Now, let's implement a standard linear regression model."
   ]
  },
  {
   "cell_type": "code",
   "execution_count": 98,
   "outputs": [],
   "source": [
    "# Implement MSE\n",
    "\n",
    "def mse(ys, ps):\n",
    "    assert len(ys) == len(ps)\n",
    "    mse_sum = 0\n",
    "\n",
    "    for i in range(len(ys)):\n",
    "        yi = ys[i]\n",
    "        pi = ps[i]\n",
    "\n",
    "        mse_sum = mse_sum + (yi - pi) ** 2\n",
    "    return mse_sum / len(ys)"
   ],
   "metadata": {
    "collapsed": false
   }
  },
  {
   "cell_type": "code",
   "metadata": {
    "id": "Vn97D3vd-Eoj"
   },
   "source": [
    "from matplotlib import pyplot\n",
    "# Linear regression\n",
    "\n",
    "class LinearRegression:\n",
    "    def __init__(self, learning_rate, weight_number, epochs_number):\n",
    "        self.learning_rate = learning_rate\n",
    "        self.weight_number = weight_number\n",
    "        self.epoch_numbers = epochs_number\n",
    "        self.loss_values = []\n",
    "\n",
    "    def plot_loss(self, title):\n",
    "        pyplot.plot(self.loss_values)\n",
    "        pyplot.title(title)\n",
    "        pyplot.xlabel(\"Epoch number\")\n",
    "        pyplot.ylabel(\"Loss value\")\n",
    "        pyplot.show()\n",
    "\n",
    "    def train(self, train_dataset, train_groundtruth):\n",
    "        weights = numpy.random.normal(size=train_dataset.shape[1])\n",
    "\n",
    "        for e in range(self.epoch_numbers):\n",
    "            predict_price = numpy.dot(train_dataset, weights)\n",
    "            current_mse = mse(train_groundtruth, predict_price)\n",
    "            gradient = (2/self.weight_number) * numpy.dot (train_dataset.T, predict_price - train_groundtruth)\n",
    "            weights -= self.learning_rate * gradient\n",
    "\n",
    "            self.loss_values.append(current_mse)\n",
    "\n",
    "        return weights"
   ],
   "execution_count": 114,
   "outputs": []
  },
  {
   "cell_type": "code",
   "execution_count": 116,
   "outputs": [
    {
     "data": {
      "text/plain": "<Figure size 640x480 with 1 Axes>",
      "image/png": "[encoded data removed]"
     },
     "metadata": {},
     "output_type": "display_data"
    },
    {
     "name": "stdout",
     "output_type": "stream",
     "text": [
      "MSLE for linear regression trained with MSE:  0.0768350895567654\n"
     ]
    }
   ],
   "source": [
    "# Split datasets\n",
    "train_data_y = train_data['cena'].to_numpy()\n",
    "train_data_x = train_data.drop('cena', axis=1).to_numpy()\n",
    "\n",
    "test_data_y = test_data['cena'].to_numpy()\n",
    "test_data_x = test_data.drop('cena', axis=1).to_numpy()\n",
    "\n",
    "# Standardization of datasets\n",
    "from sklearn.preprocessing import MinMaxScaler\n",
    "scaler = MinMaxScaler()\n",
    "scaler.fit(train_data_x)\n",
    "test_x_scaled = scaler.transform(test_data_x)\n",
    "train_x_scaled = scaler.transform(train_data_x)\n",
    "\n",
    "# Train linear regression\n",
    "linear_regression = LinearRegression(0.001, len(train_x_scaled), 10000)\n",
    "model_weights = linear_regression.train(train_x_scaled, train_data_y)\n",
    "linear_regression.plot_loss(\"Loss function for linear regression trained with MSE\")\n",
    "\n",
    "# Test the model against MSLE\n",
    "test_results = numpy.dot(test_x_scaled, model_weights)\n",
    "print('MSLE for linear regression trained with MSE: ', msle(test_data_y, test_results))"
   ],
   "metadata": {
    "collapsed": false
   }
  },
  {
   "cell_type": "markdown",
   "metadata": {
    "id": "nzrrOte5-Eol"
   },
   "source": [
    "Note that the loss function that the algorithms optimizes (i.e $MSE$) differs from $MSLE$. We've already seen that this may result in a suboptimal solution.\n",
    "\n",
    "How can you change the setting so that we optimze $MSLE$ instead?"
   ]
  },
  {
   "cell_type": "markdown",
   "metadata": {
    "id": "qVD8kWEJ-Eom"
   },
   "source": [
    "Hint: \n",
    "<sub><sup><sub><sup><sub><sup>\n",
    "Be lazy. We don't want to change the algorithm.\n",
    "</sup></sub></sup></sub></sup></sub>"
   ]
  },
  {
   "cell_type": "code",
   "metadata": {
    "id": "MniIPMg8-Eom"
   },
   "source": [
    "#############################################\n",
    "# TODO: Optimize msle and compare the error #\n",
    "#############################################"
   ],
   "execution_count": null,
   "outputs": []
  },
  {
   "cell_type": "markdown",
   "metadata": {
    "id": "OvWrBkLu-Eoo"
   },
   "source": [
    "Without any feature engineering our model approximates the price as a linear combination of original features:\n",
    "$$\n",
    "\\text{price} \\approx w_1 \\cdot \\text{area} + w_2 \\cdot \\text{district} + \\dots.\n",
    "$$\n",
    "Let's now introduce some interactions between the variables. For instance, let's consider a following formula:\n",
    "$$\n",
    "\\text{price} \\approx w_1 \\cdot \\text{area} \\cdot \\text{avg. price in the district per sq. meter} + w_2 \\cdot \\dots + \\dots.\n",
    "$$\n",
    "Here, we model the price with far greater granularity, and we may expect to see more acurate results."
   ]
  },
  {
   "cell_type": "markdown",
   "metadata": {
    "id": "zBM60E7t-Eop"
   },
   "source": [
    "Add some feature engineering to your model. Be sure to play with the data and not with the algorithm's code. \n",
    "\n",
    "Think how to make sure that your model is capable of capturing the $w_1 \\cdot \\text{area} \\cdot \\text{avg. price...}$ part, without actually computing the averages."
   ]
  },
  {
   "cell_type": "markdown",
   "metadata": {
    "id": "XT5DziNC-Eoq"
   },
   "source": [
    "Hint: \n",
    "<sub><sup><sub><sup><sub><sup>\n",
    "Is having a binary encoding for each district and multiplying it by area enough?\n",
    "</sup></sub></sup></sub></sup></sub>"
   ]
  },
  {
   "cell_type": "markdown",
   "metadata": {
    "id": "PKOVCHNz-Eor"
   },
   "source": [
    "Hint 2: \n",
    "<sub><sup><sub><sup><sub><sup>\n",
    "Why not multiply everything together? I.e. (A,B,C) -> (AB,AC,BC).\n",
    "</sup></sub></sup></sub></sup></sub>"
   ]
  },
  {
   "cell_type": "code",
   "metadata": {
    "id": "DPviz09O-Eor"
   },
   "source": [
    "###############################################\n",
    "# TODO: Implement the feature engineering part #\n",
    "###############################################"
   ],
   "execution_count": null,
   "outputs": []
  },
  {
   "cell_type": "code",
   "metadata": {
    "id": "v2Lj1TPr-Eot"
   },
   "source": [
    "##############################################################\n",
    "# TODO: Test your solution on the training and test datasets #\n",
    "##############################################################"
   ],
   "execution_count": null,
   "outputs": []
  }
 ]
}

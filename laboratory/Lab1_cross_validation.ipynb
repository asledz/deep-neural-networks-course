{
  "nbformat": 4,
  "nbformat_minor": 0,
  "metadata": {
    "kernelspec": {
      "name": "python3",
      "display_name": "Python 3"
    },
    "colab": {
      "provenance": [],
      "collapsed_sections": []
    }
  },
  "cells": [
    {
      "cell_type": "markdown",
      "metadata": {
        "id": "qMeI3m9u-ZBN"
      },
      "source": [
        "# Validation and cross-validation \n",
        "\n",
        "In this exercise you will implement a validation pipeline. \n",
        "\n",
        "At the end of the MSLE exercise you tested your model against the training and test datasets. As you should observe, there's a gap between the results. By validating your model, not only should you be able to anticipate the test time performance, but also have a method to compare different models.\n",
        "\n",
        "Implement the basic validation method, i.e. a random split. Test it with your model from Exercise MSLE."
      ]
    },
    {
      "cell_type": "code",
      "source": [
        "%matplotlib inline\n",
        "\n",
        "!wget -O mieszkania.csv https://www.dropbox.com/s/zey0gx91pna8irj/mieszkania.csv?dl=1\n",
        "!wget -O mieszkania_test.csv https://www.dropbox.com/s/dbrj6sbxb4ayqjz/mieszkania_test.csv?dl=1"
      ],
      "metadata": {
        "colab": {
          "base_uri": "https://localhost:8080/"
        },
        "id": "tMxpoCCqXXWZ",
        "outputId": "661f7308-c8fb-4107-d330-81a195e032ae"
      },
      "execution_count": null,
      "outputs": [
        {
          "output_type": "stream",
          "name": "stdout",
          "text": [
            "--2022-10-21 12:39:33--  https://www.dropbox.com/s/zey0gx91pna8irj/mieszkania.csv?dl=1\n",
            "Resolving www.dropbox.com (www.dropbox.com)... 162.125.1.18, 2620:100:601a:18::a27d:712\n",
            "Connecting to www.dropbox.com (www.dropbox.com)|162.125.1.18|:443... connected.\n",
            "HTTP request sent, awaiting response... 302 Found\n",
            "Location: /s/dl/zey0gx91pna8irj/mieszkania.csv [following]\n",
            "--2022-10-21 12:39:33--  https://www.dropbox.com/s/dl/zey0gx91pna8irj/mieszkania.csv\n",
            "Reusing existing connection to www.dropbox.com:443.\n",
            "HTTP request sent, awaiting response... 302 Found\n",
            "Location: https://ucd3e211e9c3985cc9d13269767d.dl.dropboxusercontent.com/cd/0/get/BvOJUjoDR_YvOLAF3tTw8DG5QLHXZfScONZGcZ_hG--UGwQ7Rnjye4obrcLZYzcqKApqN21ijh_EZiKSy969RtN_ULYUtMGA-Ybi0BhwaUjKLJt2uTunJ_A4MdXhBWFdaWM8ed5mRrqJll2eaTCs6qhekEdASkkrT6cz1-03eOi0zA/file?dl=1# [following]\n",
            "--2022-10-21 12:39:33--  https://ucd3e211e9c3985cc9d13269767d.dl.dropboxusercontent.com/cd/0/get/BvOJUjoDR_YvOLAF3tTw8DG5QLHXZfScONZGcZ_hG--UGwQ7Rnjye4obrcLZYzcqKApqN21ijh_EZiKSy969RtN_ULYUtMGA-Ybi0BhwaUjKLJt2uTunJ_A4MdXhBWFdaWM8ed5mRrqJll2eaTCs6qhekEdASkkrT6cz1-03eOi0zA/file?dl=1\n",
            "Resolving ucd3e211e9c3985cc9d13269767d.dl.dropboxusercontent.com (ucd3e211e9c3985cc9d13269767d.dl.dropboxusercontent.com)... 162.125.1.15, 2620:100:6016:15::a27d:10f\n",
            "Connecting to ucd3e211e9c3985cc9d13269767d.dl.dropboxusercontent.com (ucd3e211e9c3985cc9d13269767d.dl.dropboxusercontent.com)|162.125.1.15|:443... connected.\n",
            "HTTP request sent, awaiting response... 200 OK\n",
            "Length: 6211 (6.1K) [application/binary]\n",
            "Saving to: ‘mieszkania.csv’\n",
            "\n",
            "mieszkania.csv      100%[===================>]   6.07K  --.-KB/s    in 0s      \n",
            "\n",
            "2022-10-21 12:39:34 (1.23 GB/s) - ‘mieszkania.csv’ saved [6211/6211]\n",
            "\n",
            "--2022-10-21 12:39:34--  https://www.dropbox.com/s/dbrj6sbxb4ayqjz/mieszkania_test.csv?dl=1\n",
            "Resolving www.dropbox.com (www.dropbox.com)... 162.125.1.18, 2620:100:601a:18::a27d:712\n",
            "Connecting to www.dropbox.com (www.dropbox.com)|162.125.1.18|:443... connected.\n",
            "HTTP request sent, awaiting response... 302 Found\n",
            "Location: /s/dl/dbrj6sbxb4ayqjz/mieszkania_test.csv [following]\n",
            "--2022-10-21 12:39:34--  https://www.dropbox.com/s/dl/dbrj6sbxb4ayqjz/mieszkania_test.csv\n",
            "Reusing existing connection to www.dropbox.com:443.\n",
            "HTTP request sent, awaiting response... 302 Found\n",
            "Location: https://uc9a984943b0b97db337b221915f.dl.dropboxusercontent.com/cd/0/get/BvPTmdgkAU2KUOLjzBZBI2Go9PuPvsVbufrf5tKilsqRML_dtsB7VrVs8FAUE6aOdajv1BUw6exjNwm-1swnp7VVBrHJ_kITu1GVaLEn7oKHNorcHjQzb9uwoXpso9WgWU_-Nmnf005GCMhjop3jTF8O4GlCGFKiKOUR1UB4N29hUA/file?dl=1# [following]\n",
            "--2022-10-21 12:39:34--  https://uc9a984943b0b97db337b221915f.dl.dropboxusercontent.com/cd/0/get/BvPTmdgkAU2KUOLjzBZBI2Go9PuPvsVbufrf5tKilsqRML_dtsB7VrVs8FAUE6aOdajv1BUw6exjNwm-1swnp7VVBrHJ_kITu1GVaLEn7oKHNorcHjQzb9uwoXpso9WgWU_-Nmnf005GCMhjop3jTF8O4GlCGFKiKOUR1UB4N29hUA/file?dl=1\n",
            "Resolving uc9a984943b0b97db337b221915f.dl.dropboxusercontent.com (uc9a984943b0b97db337b221915f.dl.dropboxusercontent.com)... 162.125.1.15, 2620:100:6017:15::a27d:20f\n",
            "Connecting to uc9a984943b0b97db337b221915f.dl.dropboxusercontent.com (uc9a984943b0b97db337b221915f.dl.dropboxusercontent.com)|162.125.1.15|:443... connected.\n",
            "HTTP request sent, awaiting response... 200 OK\n",
            "Length: 6247 (6.1K) [application/binary]\n",
            "Saving to: ‘mieszkania_test.csv’\n",
            "\n",
            "mieszkania_test.csv 100%[===================>]   6.10K  --.-KB/s    in 0s      \n",
            "\n",
            "2022-10-21 12:39:35 (1.12 GB/s) - ‘mieszkania_test.csv’ saved [6247/6247]\n",
            "\n"
          ]
        }
      ]
    },
    {
      "cell_type": "code",
      "source": [
        "def load(name: str) -> Tuple[np.ndarray, np.array]:\n",
        "    data = pd.read_csv(name)\n",
        "    x = data.loc[:, data.columns != 'cena'].to_numpy()\n",
        "    y = data['cena'].to_numpy()\n",
        "\n",
        "    return x, y"
      ],
      "metadata": {
        "id": "MNjo9j9EXD84"
      },
      "execution_count": null,
      "outputs": []
    },
    {
      "cell_type": "code",
      "source": [
        "x_train, y_train = load('mieszkania.csv')\n",
        "x_test, y_test = load('mieszkania_test.csv')"
      ],
      "metadata": {
        "id": "uoYy1AU5XD_e"
      },
      "execution_count": null,
      "outputs": []
    },
    {
      "cell_type": "code",
      "source": [
        "labelencoder = preprocessing.LabelEncoder()\n",
        "labelencoder.fit(x_train[:, 1])\n",
        "x_train[:, 1] = labelencoder.transform(x_train[:, 1])\n",
        "x_test[:, 1] = labelencoder.transform(x_test[:, 1])\n",
        "\n",
        "x_train = x_train.astype(np.float64)\n",
        "x_test = x_test.astype(np.float64)"
      ],
      "metadata": {
        "id": "qX2qTiVdXEEb"
      },
      "execution_count": null,
      "outputs": []
    },
    {
      "cell_type": "code",
      "metadata": {
        "id": "Ca0nRHYL-ZBR",
        "colab": {
          "base_uri": "https://localhost:8080/"
        },
        "outputId": "4703e4f5-333a-4a7c-8222-17f087c8c038"
      },
      "source": [
        "#######################################################\n",
        "# TODO: Implement the basic validation method,        # \n",
        "# compare MSLE on training, validation, and test sets #\n",
        "#######################################################\n"
      ],
      "execution_count": null,
      "outputs": [
        {
          "output_type": "stream",
          "name": "stderr",
          "text": [
            "/usr/local/lib/python3.7/dist-packages/ipykernel_launcher.py:16: DeprecationWarning: elementwise comparison failed; this will raise an error in the future.\n",
            "  app.launch_new_instance()\n"
          ]
        }
      ]
    },
    {
      "cell_type": "markdown",
      "metadata": {
        "id": "tnnf-KvC-ZBW"
      },
      "source": [
        "To make the random split validation reliable, a huge chunk of training data may be needed. To get over this problem, one may apply cross-validaiton.\n",
        "\n",
        "![alt-text](https://chrisjmccormick.files.wordpress.com/2013/07/10_fold_cv.png)"
      ]
    },
    {
      "cell_type": "markdown",
      "metadata": {
        "id": "sbu4F_h9-ZBX"
      },
      "source": [
        "Let's now implement the method. Make sure that:\n",
        "* number of partitions is a parameter,\n",
        "* the method is not limited to `mieszkania.csv`,\n",
        "* the method is not limited to one specific model."
      ]
    },
    {
      "cell_type": "code",
      "metadata": {
        "id": "dbfmYPOh-ZBY"
      },
      "source": [
        "####################################\n",
        "# TODO: Implement cross-validation # \n",
        "####################################"
      ],
      "execution_count": null,
      "outputs": []
    },
    {
      "cell_type": "markdown",
      "metadata": {
        "id": "sF2-UXXR-ZBc"
      },
      "source": [
        "Recall that sometimes validation may be tricky, e.g. significant class imbalance, having a small number of subjects, geographically clustered instances...\n",
        "\n",
        "What could in theory go wrong here with random, unstratified partitions? Think about potential solutions and investigate the data in order to check whether these problems arise here."
      ]
    },
    {
      "cell_type": "code",
      "metadata": {
        "id": "bt-y3kUy-ZBe"
      },
      "source": [
        "##############################\n",
        "# TODO: Investigate the data #\n",
        "##############################"
      ],
      "execution_count": null,
      "outputs": []
    },
    {
      "cell_type": "code",
      "source": [],
      "metadata": {
        "id": "tgavgEK4YZkr"
      },
      "execution_count": null,
      "outputs": []
    }
  ]
}
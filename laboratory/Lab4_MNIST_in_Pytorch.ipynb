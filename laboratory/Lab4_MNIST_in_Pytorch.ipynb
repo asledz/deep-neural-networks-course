{
  "nbformat": 4,
  "nbformat_minor": 0,
  "metadata": {
    "colab": {
      "provenance": []
    },
    "kernelspec": {
      "name": "python3",
      "display_name": "Python 3"
    },
    "language_info": {
      "name": "python"
    }
  },
  "cells": [
    {
      "cell_type": "markdown",
      "source": [
        "<center><img src='https://drive.google.com/uc?id=1_utx_ZGclmCwNttSe40kYA6VHzNocdET' height=\"60\"></center>\n",
        "\n",
        "AI TECH - Akademia Innowacyjnych Zastosowań Technologii Cyfrowych. Program Operacyjny Polska Cyfrowa na lata 2014-2020\n",
        "<hr>\n",
        "\n",
        "<center><img src='https://drive.google.com/uc?id=1BXZ0u3562N_MqCLcekI-Ens77Kk4LpPm'></center>\n",
        "\n",
        "<center>\n",
        "Projekt współfinansowany ze środków Unii Europejskiej w ramach Europejskiego Funduszu Rozwoju Regionalnego \n",
        "Program Operacyjny Polska Cyfrowa na lata 2014-2020,\n",
        "Oś Priorytetowa nr 3 \"Cyfrowe kompetencje społeczeństwa\" Działanie  nr 3.2 \"Innowacyjne rozwiązania na rzecz aktywizacji cyfrowej\" \n",
        "Tytuł projektu:  „Akademia Innowacyjnych Zastosowań Technologii Cyfrowych (AI Tech)”\n",
        "    </center>"
      ],
      "metadata": {
        "id": "MxW4dJFDfX_a"
      }
    },
    {
      "cell_type": "markdown",
      "metadata": {
        "id": "gcTwzhX8fBqs"
      },
      "source": [
        "Code based on https://github.com/pytorch/examples/blob/master/mnist/main.py\n",
        "\n",
        "In this exercise we are using high level abstractions from torch.nn like nn.Linear.\n",
        "Note: during the next lab session we will go one level deeper and implement more things\n",
        "with bare hands.\n",
        "\n",
        "Tasks:\n",
        "\n",
        "    1. Read the code.\n",
        "\n",
        "    2. Check that the given implementation reaches 95% test accuracy for architecture input-128-128-10 after few epochs.\n",
        "\n",
        "    3. Add the option to use SGD with momentum instead of ADAM.\n",
        "\n",
        "    4. Experiment with different learning rates, plot the learning curves for different\n",
        "    learning rates for both ADAM and SGD with momentum.\n",
        "\n",
        "    5. Parameterize the constructor by a list of sizes of hidden layers of the MLP.\n",
        "    Note that this requires creating a list of layers as an atribute of the Net class,\n",
        "    and one can't use a standard python list containing nn.Modules (why?).\n",
        "    Check torch.nn.ModuleList.\n"
      ]
    },
    {
      "cell_type": "code",
      "metadata": {
        "id": "IYAsziKffBFV"
      },
      "source": [
        "import torch\n",
        "import torch.nn as nn\n",
        "import torch.nn.functional as F\n",
        "import torch.optim as optim\n",
        "from torchvision import datasets, transforms"
      ],
      "execution_count": null,
      "outputs": []
    },
    {
      "cell_type": "code",
      "metadata": {
        "id": "DMtap4QCfBH8"
      },
      "source": [
        "class Net(nn.Module):\n",
        "    def __init__(self):\n",
        "        super(Net, self).__init__()\n",
        "        # After flattening an image of size 28x28 we have 784 inputs\n",
        "        self.fc1 = nn.Linear(784, 128)\n",
        "        self.fc2 = nn.Linear(128, 128)\n",
        "        self.fc3 = nn.Linear(128, 10)\n",
        "\n",
        "    def forward(self, x):\n",
        "        x = torch.flatten(x, 1)\n",
        "        x = self.fc1(x)\n",
        "        x = F.relu(x)\n",
        "        x = self.fc2(x)\n",
        "        x = F.relu(x)\n",
        "        x = self.fc3(x)\n",
        "        output = F.log_softmax(x, dim=1)\n",
        "        return output\n",
        "\n",
        "\n",
        "def train(model, device, train_loader, optimizer, epoch, log_interval):\n",
        "    model.train()\n",
        "    for batch_idx, (data, target) in enumerate(train_loader):\n",
        "        data, target = data.to(device), target.to(device)\n",
        "        optimizer.zero_grad()\n",
        "        output = model(data)\n",
        "        loss = F.nll_loss(output, target)\n",
        "        loss.backward()\n",
        "        optimizer.step()\n",
        "        if batch_idx % log_interval == 0:\n",
        "            print('Train Epoch: {} [{}/{} ({:.0f}%)]\\tLoss: {:.6f}'.format(\n",
        "                epoch, batch_idx * len(data), len(train_loader.dataset),\n",
        "                100. * batch_idx / len(train_loader), loss.item()))\n",
        "\n",
        "\n",
        "def test(model, device, test_loader):\n",
        "    model.eval()\n",
        "    test_loss = 0\n",
        "    correct = 0\n",
        "    with torch.no_grad():\n",
        "        for data, target in test_loader:\n",
        "            data, target = data.to(device), target.to(device)\n",
        "            output = model(data)\n",
        "            test_loss += F.nll_loss(output, target, reduction='sum').item()  # sum up batch loss\n",
        "            pred = output.argmax(dim=1, keepdim=True)  # get the index of the max log-probability\n",
        "            correct += pred.eq(target.view_as(pred)).sum().item()\n",
        "\n",
        "    test_loss /= len(test_loader.dataset)\n",
        "\n",
        "    print('\\nTest set: Average loss: {:.4f}, Accuracy: {}/{} ({:.0f}%)\\n'.format(\n",
        "        test_loss, correct, len(test_loader.dataset),\n",
        "        100. * correct / len(test_loader.dataset)))\n",
        "\n"
      ],
      "execution_count": null,
      "outputs": []
    },
    {
      "cell_type": "code",
      "metadata": {
        "id": "K5GlMs1-fBKP"
      },
      "source": [
        "batch_size = 256\n",
        "test_batch_size = 1000\n",
        "epochs = 5\n",
        "lr = 1e-2\n",
        "use_cuda = False\n",
        "seed = 1\n",
        "log_interval = 10"
      ],
      "execution_count": null,
      "outputs": []
    },
    {
      "cell_type": "code",
      "metadata": {
        "id": "WgfUP23AfBMd"
      },
      "source": [
        "use_cuda = not use_cuda and torch.cuda.is_available()\n",
        "\n",
        "torch.manual_seed(seed)\n",
        "device = torch.device(\"cuda\" if use_cuda else \"cpu\")\n",
        "\n",
        "train_kwargs = {'batch_size': batch_size}\n",
        "test_kwargs = {'batch_size': test_batch_size}\n",
        "if use_cuda:\n",
        "    cuda_kwargs = {'num_workers': 1,\n",
        "                    'pin_memory': True,\n",
        "                    'shuffle': True}\n",
        "    train_kwargs.update(cuda_kwargs)\n",
        "    test_kwargs.update(cuda_kwargs)"
      ],
      "execution_count": null,
      "outputs": []
    },
    {
      "cell_type": "code",
      "metadata": {
        "colab": {
          "base_uri": "https://localhost:8080/"
        },
        "id": "o0KPoUtsfBOs",
        "outputId": "4ee308b0-0aac-4d3c-f372-352f28970104"
      },
      "source": [
        "transform=transforms.Compose([\n",
        "    transforms.ToTensor(),\n",
        "    transforms.Normalize((0.1307,), (0.3081,))\n",
        "    ])\n",
        "dataset1 = datasets.MNIST('../data', train=True, download=True,\n",
        "                    transform=transform)\n",
        "dataset2 = datasets.MNIST('../data', train=False,\n",
        "                    transform=transform)\n",
        "train_loader = torch.utils.data.DataLoader(dataset1,**train_kwargs)\n",
        "test_loader = torch.utils.data.DataLoader(dataset2, **test_kwargs)"
      ],
      "execution_count": null,
      "outputs": [
        {
          "output_type": "stream",
          "name": "stderr",
          "text": [
            "/usr/local/lib/python3.7/dist-packages/torchvision/datasets/mnist.py:498: UserWarning: The given NumPy array is not writeable, and PyTorch does not support non-writeable tensors. This means you can write to the underlying (supposedly non-writeable) NumPy array using the tensor. You may want to copy the array to protect its data or make it writeable before converting it to a tensor. This type of warning will be suppressed for the rest of this program. (Triggered internally at  /pytorch/torch/csrc/utils/tensor_numpy.cpp:180.)\n",
            "  return torch.from_numpy(parsed.astype(m[2], copy=False)).view(*s)\n"
          ]
        }
      ]
    },
    {
      "cell_type": "code",
      "metadata": {
        "colab": {
          "base_uri": "https://localhost:8080/"
        },
        "id": "ezvIQbgsfBRT",
        "outputId": "3f6621ef-0bad-46c6-bd8f-ac535db8e9af"
      },
      "source": [
        "model = Net().to(device)\n",
        "optimizer = optim.Adam(model.parameters(), lr=lr)\n",
        "\n",
        "for epoch in range(1, epochs + 1):\n",
        "    train(model, device, train_loader, optimizer, epoch, log_interval)\n",
        "    test(model, device, test_loader)"
      ],
      "execution_count": null,
      "outputs": [
        {
          "output_type": "stream",
          "name": "stdout",
          "text": [
            "Train Epoch: 1 [0/60000 (0%)]\tLoss: 2.313259\n",
            "Train Epoch: 1 [2560/60000 (4%)]\tLoss: 0.732760\n",
            "Train Epoch: 1 [5120/60000 (9%)]\tLoss: 0.582762\n",
            "Train Epoch: 1 [7680/60000 (13%)]\tLoss: 0.481087\n",
            "Train Epoch: 1 [10240/60000 (17%)]\tLoss: 0.334523\n",
            "Train Epoch: 1 [12800/60000 (21%)]\tLoss: 0.346265\n",
            "Train Epoch: 1 [15360/60000 (26%)]\tLoss: 0.229349\n",
            "Train Epoch: 1 [17920/60000 (30%)]\tLoss: 0.191099\n",
            "Train Epoch: 1 [20480/60000 (34%)]\tLoss: 0.224889\n",
            "Train Epoch: 1 [23040/60000 (38%)]\tLoss: 0.244065\n",
            "Train Epoch: 1 [25600/60000 (43%)]\tLoss: 0.236049\n",
            "Train Epoch: 1 [28160/60000 (47%)]\tLoss: 0.241033\n",
            "Train Epoch: 1 [30720/60000 (51%)]\tLoss: 0.194208\n",
            "Train Epoch: 1 [33280/60000 (55%)]\tLoss: 0.302403\n",
            "Train Epoch: 1 [35840/60000 (60%)]\tLoss: 0.203934\n",
            "Train Epoch: 1 [38400/60000 (64%)]\tLoss: 0.192445\n",
            "Train Epoch: 1 [40960/60000 (68%)]\tLoss: 0.173173\n",
            "Train Epoch: 1 [43520/60000 (72%)]\tLoss: 0.140804\n",
            "Train Epoch: 1 [46080/60000 (77%)]\tLoss: 0.356528\n",
            "Train Epoch: 1 [48640/60000 (81%)]\tLoss: 0.130329\n",
            "Train Epoch: 1 [51200/60000 (85%)]\tLoss: 0.193251\n",
            "Train Epoch: 1 [53760/60000 (89%)]\tLoss: 0.220766\n",
            "Train Epoch: 1 [56320/60000 (94%)]\tLoss: 0.161184\n",
            "Train Epoch: 1 [58880/60000 (98%)]\tLoss: 0.033076\n",
            "\n",
            "Test set: Average loss: 0.2348, Accuracy: 9296/10000 (93%)\n",
            "\n",
            "Train Epoch: 2 [0/60000 (0%)]\tLoss: 0.195757\n",
            "Train Epoch: 2 [2560/60000 (4%)]\tLoss: 0.186170\n",
            "Train Epoch: 2 [5120/60000 (9%)]\tLoss: 0.221164\n",
            "Train Epoch: 2 [7680/60000 (13%)]\tLoss: 0.216212\n",
            "Train Epoch: 2 [10240/60000 (17%)]\tLoss: 0.129823\n",
            "Train Epoch: 2 [12800/60000 (21%)]\tLoss: 0.213018\n",
            "Train Epoch: 2 [15360/60000 (26%)]\tLoss: 0.084054\n",
            "Train Epoch: 2 [17920/60000 (30%)]\tLoss: 0.093741\n",
            "Train Epoch: 2 [20480/60000 (34%)]\tLoss: 0.137256\n",
            "Train Epoch: 2 [23040/60000 (38%)]\tLoss: 0.128070\n",
            "Train Epoch: 2 [25600/60000 (43%)]\tLoss: 0.165222\n",
            "Train Epoch: 2 [28160/60000 (47%)]\tLoss: 0.153658\n",
            "Train Epoch: 2 [30720/60000 (51%)]\tLoss: 0.107960\n",
            "Train Epoch: 2 [33280/60000 (55%)]\tLoss: 0.171114\n",
            "Train Epoch: 2 [35840/60000 (60%)]\tLoss: 0.145849\n",
            "Train Epoch: 2 [38400/60000 (64%)]\tLoss: 0.134991\n",
            "Train Epoch: 2 [40960/60000 (68%)]\tLoss: 0.129441\n",
            "Train Epoch: 2 [43520/60000 (72%)]\tLoss: 0.102524\n",
            "Train Epoch: 2 [46080/60000 (77%)]\tLoss: 0.212980\n",
            "Train Epoch: 2 [48640/60000 (81%)]\tLoss: 0.111156\n",
            "Train Epoch: 2 [51200/60000 (85%)]\tLoss: 0.144388\n",
            "Train Epoch: 2 [53760/60000 (89%)]\tLoss: 0.105338\n",
            "Train Epoch: 2 [56320/60000 (94%)]\tLoss: 0.102741\n",
            "Train Epoch: 2 [58880/60000 (98%)]\tLoss: 0.003251\n",
            "\n",
            "Test set: Average loss: 0.1406, Accuracy: 9624/10000 (96%)\n",
            "\n",
            "Train Epoch: 3 [0/60000 (0%)]\tLoss: 0.128913\n",
            "Train Epoch: 3 [2560/60000 (4%)]\tLoss: 0.141108\n",
            "Train Epoch: 3 [5120/60000 (9%)]\tLoss: 0.131306\n",
            "Train Epoch: 3 [7680/60000 (13%)]\tLoss: 0.133564\n",
            "Train Epoch: 3 [10240/60000 (17%)]\tLoss: 0.090147\n",
            "Train Epoch: 3 [12800/60000 (21%)]\tLoss: 0.091711\n",
            "Train Epoch: 3 [15360/60000 (26%)]\tLoss: 0.075172\n",
            "Train Epoch: 3 [17920/60000 (30%)]\tLoss: 0.083474\n",
            "Train Epoch: 3 [20480/60000 (34%)]\tLoss: 0.066577\n",
            "Train Epoch: 3 [23040/60000 (38%)]\tLoss: 0.104054\n",
            "Train Epoch: 3 [25600/60000 (43%)]\tLoss: 0.127242\n",
            "Train Epoch: 3 [28160/60000 (47%)]\tLoss: 0.119107\n",
            "Train Epoch: 3 [30720/60000 (51%)]\tLoss: 0.121932\n",
            "Train Epoch: 3 [33280/60000 (55%)]\tLoss: 0.148489\n",
            "Train Epoch: 3 [35840/60000 (60%)]\tLoss: 0.143829\n",
            "Train Epoch: 3 [38400/60000 (64%)]\tLoss: 0.116574\n",
            "Train Epoch: 3 [40960/60000 (68%)]\tLoss: 0.099489\n",
            "Train Epoch: 3 [43520/60000 (72%)]\tLoss: 0.085981\n",
            "Train Epoch: 3 [46080/60000 (77%)]\tLoss: 0.151185\n",
            "Train Epoch: 3 [48640/60000 (81%)]\tLoss: 0.067136\n",
            "Train Epoch: 3 [51200/60000 (85%)]\tLoss: 0.117162\n",
            "Train Epoch: 3 [53760/60000 (89%)]\tLoss: 0.069637\n",
            "Train Epoch: 3 [56320/60000 (94%)]\tLoss: 0.084281\n",
            "Train Epoch: 3 [58880/60000 (98%)]\tLoss: 0.008372\n",
            "\n",
            "Test set: Average loss: 0.1440, Accuracy: 9624/10000 (96%)\n",
            "\n",
            "Train Epoch: 4 [0/60000 (0%)]\tLoss: 0.126832\n",
            "Train Epoch: 4 [2560/60000 (4%)]\tLoss: 0.130772\n",
            "Train Epoch: 4 [5120/60000 (9%)]\tLoss: 0.261664\n",
            "Train Epoch: 4 [7680/60000 (13%)]\tLoss: 0.113737\n",
            "Train Epoch: 4 [10240/60000 (17%)]\tLoss: 0.122714\n",
            "Train Epoch: 4 [12800/60000 (21%)]\tLoss: 0.111576\n",
            "Train Epoch: 4 [15360/60000 (26%)]\tLoss: 0.064502\n",
            "Train Epoch: 4 [17920/60000 (30%)]\tLoss: 0.131550\n",
            "Train Epoch: 4 [20480/60000 (34%)]\tLoss: 0.102654\n",
            "Train Epoch: 4 [23040/60000 (38%)]\tLoss: 0.129520\n",
            "Train Epoch: 4 [25600/60000 (43%)]\tLoss: 0.090885\n",
            "Train Epoch: 4 [28160/60000 (47%)]\tLoss: 0.111217\n",
            "Train Epoch: 4 [30720/60000 (51%)]\tLoss: 0.101169\n",
            "Train Epoch: 4 [33280/60000 (55%)]\tLoss: 0.082558\n",
            "Train Epoch: 4 [35840/60000 (60%)]\tLoss: 0.139318\n",
            "Train Epoch: 4 [38400/60000 (64%)]\tLoss: 0.071433\n",
            "Train Epoch: 4 [40960/60000 (68%)]\tLoss: 0.112144\n",
            "Train Epoch: 4 [43520/60000 (72%)]\tLoss: 0.073806\n",
            "Train Epoch: 4 [46080/60000 (77%)]\tLoss: 0.188243\n",
            "Train Epoch: 4 [48640/60000 (81%)]\tLoss: 0.072782\n",
            "Train Epoch: 4 [51200/60000 (85%)]\tLoss: 0.129775\n",
            "Train Epoch: 4 [53760/60000 (89%)]\tLoss: 0.116133\n",
            "Train Epoch: 4 [56320/60000 (94%)]\tLoss: 0.073336\n",
            "Train Epoch: 4 [58880/60000 (98%)]\tLoss: 0.007625\n",
            "\n",
            "Test set: Average loss: 0.1549, Accuracy: 9575/10000 (96%)\n",
            "\n",
            "Train Epoch: 5 [0/60000 (0%)]\tLoss: 0.143228\n",
            "Train Epoch: 5 [2560/60000 (4%)]\tLoss: 0.109375\n",
            "Train Epoch: 5 [5120/60000 (9%)]\tLoss: 0.125470\n",
            "Train Epoch: 5 [7680/60000 (13%)]\tLoss: 0.084358\n",
            "Train Epoch: 5 [10240/60000 (17%)]\tLoss: 0.089301\n",
            "Train Epoch: 5 [12800/60000 (21%)]\tLoss: 0.119015\n",
            "Train Epoch: 5 [15360/60000 (26%)]\tLoss: 0.082875\n",
            "Train Epoch: 5 [17920/60000 (30%)]\tLoss: 0.083875\n",
            "Train Epoch: 5 [20480/60000 (34%)]\tLoss: 0.092333\n",
            "Train Epoch: 5 [23040/60000 (38%)]\tLoss: 0.070356\n",
            "Train Epoch: 5 [25600/60000 (43%)]\tLoss: 0.099860\n",
            "Train Epoch: 5 [28160/60000 (47%)]\tLoss: 0.092403\n",
            "Train Epoch: 5 [30720/60000 (51%)]\tLoss: 0.074221\n",
            "Train Epoch: 5 [33280/60000 (55%)]\tLoss: 0.065273\n",
            "Train Epoch: 5 [35840/60000 (60%)]\tLoss: 0.153755\n",
            "Train Epoch: 5 [38400/60000 (64%)]\tLoss: 0.127684\n",
            "Train Epoch: 5 [40960/60000 (68%)]\tLoss: 0.148696\n",
            "Train Epoch: 5 [43520/60000 (72%)]\tLoss: 0.058625\n",
            "Train Epoch: 5 [46080/60000 (77%)]\tLoss: 0.134931\n",
            "Train Epoch: 5 [48640/60000 (81%)]\tLoss: 0.052227\n",
            "Train Epoch: 5 [51200/60000 (85%)]\tLoss: 0.123423\n",
            "Train Epoch: 5 [53760/60000 (89%)]\tLoss: 0.154009\n",
            "Train Epoch: 5 [56320/60000 (94%)]\tLoss: 0.126148\n",
            "Train Epoch: 5 [58880/60000 (98%)]\tLoss: 0.005411\n",
            "\n",
            "Test set: Average loss: 0.1535, Accuracy: 9638/10000 (96%)\n",
            "\n"
          ]
        }
      ]
    },
    {
      "cell_type": "code",
      "metadata": {
        "id": "DQMSSwuifBTo"
      },
      "source": [],
      "execution_count": null,
      "outputs": []
    },
    {
      "cell_type": "code",
      "metadata": {
        "id": "JX_2rCycfBWU"
      },
      "source": [],
      "execution_count": null,
      "outputs": []
    }
  ]
}
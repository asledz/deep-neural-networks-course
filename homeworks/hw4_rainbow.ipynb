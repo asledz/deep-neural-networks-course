{
 "cells": [
  {
   "cell_type": "markdown",
   "id": "91a0c19f",
   "metadata": {
    "id": "91a0c19f"
   },
   "source": [
    "# Sample Efficient Reinforcement Learning - from DQN to (almost) Rainbow\n",
    "### Author: Michal Nauman, Editor: Mateusz Olko\n",
    "\n",
    "In this homework we will expand upon on the Deep Q-Network (DQN) algorithm [(Mnih 2014)](https://www.cs.toronto.edu/~vmnih/docs/dqn.pdf). DQN has been successfully applied to a wide range of environments and has demonstrated strong performance on many tasks. However, several challenges and limitations to the DQN that have been identified in the literature:\n",
    "\n",
    "1. Sample complexity - DQN can require a large number of samples to learn effectively, especially in environments with high-dimensional state spaces or a large number of possible actions\n",
    "2. Convergence - DQN is known to converge to the optimal solution under certain conditions, but the convergence properties of the algorithm are not well understood and it is not guaranteed to converge in all cases\n",
    "3. Overestimation - DQN is known to sometimes overestimate the Q-values of certain actions, which can lead to suboptimal behavior\n",
    "4. Sensitivity to hyperparameters - DQN can be sensitive to the choice of hyperparameters, such as the learning rate, the discount factor, and the exploration scheme.\n",
    "\n",
    "Rainbow algorithm [(Hessel 2017)](https://arxiv.org/pdf/1710.02298.pdf) is a combination of several techniques for improving the performance of the DQN algorithm, which was originally proposed by DeepMind. By combining several techniques, the Rainbow algorithm is able to improve the sample efficiency, stability and  performance of the DQN algorithm. Overall, the Rainbow algorithm represents an important step forward in the development of reinforcement learning algorithms and is often used as a baseline for implementing more complex changes to the RL setup (e.g. [(Schwarzer 2021)](https://arxiv.org/pdf/2007.05929.pdf) or [(Srinivas 2020)](https://arxiv.org/pdf/2004.04136.pdf))\n",
    "\n",
    "In this homework, you will learn to augment a simple DQN implementation with all the components of Rainbow except for distributional Q-learning. To test our implementations, we will use the Lunar Lander environment. Given resources, the environment is easily solved by a vanilla DQN implementation. But we do not have resources. What we have is a budget of:\n",
    "\n",
    "1. 40 000 environment steps\n",
    "2. 35 000 Q-network updates \n",
    "\n",
    "And quite inefficient exploration scheme. As such, our basic DQN implementation will not be enough to solve Lunar Landing problem within the constraints.\n",
    "\n",
    "## Homework scenario and grading\n",
    "\n",
    "We provide you with a basic implementation of the DQN. Your job is to expand it with the following modules:\n",
    "\n",
    "1. Double Q-Learning - [(van Hasselt 2015)](https://arxiv.org/pdf/1509.06461.pdf) **1.5 pkt**\n",
    "2. N-step learning - [(Sutton 1988)](http://incompleteideas.net/papers/sutton-88-with-erratum.pdf) **1.5 pkt**\n",
    "3. Noisy linear layers - [(Fortunato et al. 2017)](https://arxiv.org/pdf/1706.10295.pdf) **1.5 pkt**\n",
    "4. Dueling network architecture - [(Wang et al. 2015)](https://arxiv.org/pdf/1511.06581.pdf) **1.5 pkt**\n",
    "5. Prioritized experience replay - [(Schaul et al. 2015)](https://arxiv.org/pdf/1511.05952.pdf) **1.5 pkt**\n",
    "6. (Almost) Rainbow - [(Hessel 2017)](https://arxiv.org/pdf/1710.02298.pdf) **1.5 pkt**\n",
    "\n",
    "Each module is designed to work independently (i.e. you can implement each individually with DQN). The final task of this homework is to combine all the implemented modules into (almost) Rainbow agent. You get the last point (**1 pkt**) for plotting results for all implemented parts."
   ]
  },
  {
   "cell_type": "markdown",
   "id": "949c29dc",
   "metadata": {
    "id": "949c29dc"
   },
   "source": [
    "We import the necessary modules:"
   ]
  },
  {
   "cell_type": "code",
   "source": [
    "!pip install --force-reinstall -v gym[box2d]==0.25.2"
   ],
   "metadata": {
    "id": "Z_2HKKYIdygC",
    "colab": {
     "base_uri": "https://localhost:8080/"
    },
    "outputId": "81dae1ec-9d96-421a-dc36-c73e64ce6d64"
   },
   "id": "Z_2HKKYIdygC",
   "execution_count": 17,
   "outputs": [
    {
     "name": "stdout",
     "output_type": "stream",
     "text": [
      "Using pip 21.3.1 from /home/anitas/Documents/deep-neural-networks-course/venv/lib/python3.10/site-packages/pip (python 3.10)\r\n",
      "Collecting gym[box2d]==0.25.2\r\n",
      "  Using cached gym-0.25.2-py3-none-any.whl\r\n",
      "Collecting cloudpickle>=1.2.0\r\n",
      "  Using cached cloudpickle-2.2.1-py3-none-any.whl (25 kB)\r\n",
      "Collecting numpy>=1.18.0\r\n",
      "  Using cached numpy-1.24.1-cp310-cp310-manylinux_2_17_x86_64.manylinux2014_x86_64.whl (17.3 MB)\r\n",
      "Collecting gym-notices>=0.0.4\r\n",
      "  Using cached gym_notices-0.0.8-py3-none-any.whl (3.0 kB)\r\n",
      "Collecting box2d-py==2.3.5\r\n",
      "  Using cached box2d_py-2.3.5-cp310-cp310-linux_x86_64.whl\r\n",
      "Collecting pygame==2.1.0\r\n",
      "  Using cached pygame-2.1.0-cp310-cp310-manylinux_2_17_x86_64.manylinux2014_x86_64.whl (18.3 MB)\r\n",
      "Collecting swig==4.*\r\n",
      "  Using cached swig-4.1.1-py2.py3-none-manylinux_2_5_x86_64.manylinux1_x86_64.whl (1.8 MB)\r\n",
      "Installing collected packages: numpy, gym-notices, cloudpickle, swig, pygame, gym, box2d-py\r\n",
      "  Attempting uninstall: numpy\r\n",
      "    Found existing installation: numpy 1.24.1\r\n",
      "    Uninstalling numpy-1.24.1:\r\n",
      "      Removing file or directory /home/anitas/Documents/deep-neural-networks-course/venv/bin/f2py\r\n",
      "      Removing file or directory /home/anitas/Documents/deep-neural-networks-course/venv/bin/f2py3\r\n",
      "      Removing file or directory /home/anitas/Documents/deep-neural-networks-course/venv/bin/f2py3.10\r\n",
      "      Removing file or directory /home/anitas/Documents/deep-neural-networks-course/venv/lib/python3.10/site-packages/numpy-1.24.1.dist-info/\r\n",
      "      Removing file or directory /home/anitas/Documents/deep-neural-networks-course/venv/lib/python3.10/site-packages/numpy.libs/\r\n",
      "      Removing file or directory /home/anitas/Documents/deep-neural-networks-course/venv/lib/python3.10/site-packages/numpy/\r\n",
      "      Successfully uninstalled numpy-1.24.1\r\n",
      "  changing mode of /home/anitas/Documents/deep-neural-networks-course/venv/bin/f2py to 755\r\n",
      "  changing mode of /home/anitas/Documents/deep-neural-networks-course/venv/bin/f2py3 to 755\r\n",
      "  changing mode of /home/anitas/Documents/deep-neural-networks-course/venv/bin/f2py3.10 to 755\r\n",
      "  Attempting uninstall: gym-notices\r\n",
      "    Found existing installation: gym-notices 0.0.8\r\n",
      "    Uninstalling gym-notices-0.0.8:\r\n",
      "      Removing file or directory /home/anitas/Documents/deep-neural-networks-course/venv/lib/python3.10/site-packages/gym_notices-0.0.8.dist-info/\r\n",
      "      Removing file or directory /home/anitas/Documents/deep-neural-networks-course/venv/lib/python3.10/site-packages/gym_notices/\r\n",
      "      Successfully uninstalled gym-notices-0.0.8\r\n",
      "  Attempting uninstall: cloudpickle\r\n",
      "    Found existing installation: cloudpickle 2.2.1\r\n",
      "    Uninstalling cloudpickle-2.2.1:\r\n",
      "      Removing file or directory /home/anitas/Documents/deep-neural-networks-course/venv/lib/python3.10/site-packages/cloudpickle-2.2.1.dist-info/\r\n",
      "      Removing file or directory /home/anitas/Documents/deep-neural-networks-course/venv/lib/python3.10/site-packages/cloudpickle/\r\n",
      "      Successfully uninstalled cloudpickle-2.2.1\r\n",
      "  Attempting uninstall: swig\r\n",
      "    Found existing installation: swig 4.1.1\r\n",
      "    Uninstalling swig-4.1.1:\r\n",
      "      Removing file or directory /home/anitas/Documents/deep-neural-networks-course/venv/bin/swig\r\n",
      "      Removing file or directory /home/anitas/Documents/deep-neural-networks-course/venv/lib/python3.10/site-packages/swig-4.1.1.dist-info/\r\n",
      "      Removing file or directory /home/anitas/Documents/deep-neural-networks-course/venv/lib/python3.10/site-packages/swig/\r\n",
      "      Successfully uninstalled swig-4.1.1\r\n",
      "  changing mode of /home/anitas/Documents/deep-neural-networks-course/venv/bin/swig to 755\r\n",
      "  Attempting uninstall: pygame\r\n",
      "    Found existing installation: pygame 2.1.0\r\n",
      "    Uninstalling pygame-2.1.0:\r\n",
      "      Removing file or directory /home/anitas/Documents/deep-neural-networks-course/venv/include/site/python3.10/pygame/\r\n",
      "      Removing file or directory /home/anitas/Documents/deep-neural-networks-course/venv/lib/python3.10/site-packages/pygame-2.1.0.dist-info/\r\n",
      "      Removing file or directory /home/anitas/Documents/deep-neural-networks-course/venv/lib/python3.10/site-packages/pygame.libs/\r\n",
      "      Removing file or directory /home/anitas/Documents/deep-neural-networks-course/venv/lib/python3.10/site-packages/pygame/\r\n",
      "      Successfully uninstalled pygame-2.1.0\r\n",
      "  Attempting uninstall: gym\r\n",
      "    Found existing installation: gym 0.25.2\r\n",
      "    Uninstalling gym-0.25.2:\r\n",
      "      Removing file or directory /home/anitas/Documents/deep-neural-networks-course/venv/lib/python3.10/site-packages/gym-0.25.2.dist-info/\r\n",
      "      Removing file or directory /home/anitas/Documents/deep-neural-networks-course/venv/lib/python3.10/site-packages/gym/\r\n",
      "      Successfully uninstalled gym-0.25.2\r\n",
      "  Attempting uninstall: box2d-py\r\n",
      "    Found existing installation: box2d-py 2.3.5\r\n",
      "    Uninstalling box2d-py-2.3.5:\r\n",
      "      Removing file or directory /home/anitas/Documents/deep-neural-networks-course/venv/lib/python3.10/site-packages/Box2D/\r\n",
      "      Removing file or directory /home/anitas/Documents/deep-neural-networks-course/venv/lib/python3.10/site-packages/box2d_py-2.3.5.dist-info/\r\n",
      "      Successfully uninstalled box2d-py-2.3.5\r\n",
      "Successfully installed box2d-py-2.3.5 cloudpickle-2.2.1 gym-0.25.2 gym-notices-0.0.8 numpy-1.24.1 pygame-2.1.0 swig-4.1.1\r\n",
      "\u001B[33mWARNING: You are using pip version 21.3.1; however, version 22.3.1 is available.\r\n",
      "You should consider upgrading via the '/home/anitas/Documents/deep-neural-networks-course/venv/bin/python -m pip install --upgrade pip' command.\u001B[0m\r\n"
     ]
    }
   ]
  },
  {
   "cell_type": "code",
   "execution_count": 18,
   "id": "d0728d82",
   "metadata": {
    "id": "d0728d82"
   },
   "outputs": [],
   "source": [
    "import os\n",
    "import math\n",
    "import random\n",
    "import time\n",
    "\n",
    "import gym\n",
    "import numpy as np\n",
    "import torch\n",
    "import torch.nn as nn\n",
    "import torch.optim as optim\n"
   ]
  },
  {
   "cell_type": "markdown",
   "id": "094e4c1f",
   "metadata": {
    "id": "094e4c1f"
   },
   "source": [
    "We define a simple class for holding the hyperparameters (do not change those!)"
   ]
  },
  {
   "cell_type": "code",
   "execution_count": 19,
   "id": "e1883162",
   "metadata": {
    "id": "e1883162",
    "colab": {
     "base_uri": "https://localhost:8080/"
    },
    "outputId": "86aee20e-54e7-45ce-ccaf-ac0a5a8d78d6"
   },
   "outputs": [],
   "source": [
    "# do not change!\n",
    "class parse_args:\n",
    "    def __init__(self):\n",
    "        self.gym_id = \"LunarLander-v2\"\n",
    "        self.capacity = 10000\n",
    "        self.init_steps = 10000\n",
    "        self.batch_size = 128\n",
    "        self.hidden_dim = 128\n",
    "        self.learning_rate = 7e-4\n",
    "        self.discount = 0.99\n",
    "        self.samples = 3\n",
    "        self.total_timesteps = 40000\n",
    "        self.target_update_freq = 50\n",
    "        self.evaluate_freq = 1000\n",
    "        self.evaluate_samples = 5\n",
    "        self.anneal_steps = 30000\n",
    "        self.epsilon_limit = 0.01\n",
    "        self.cuda = True\n",
    "        env = gym.make(self.gym_id)\n",
    "        self.state_dim = env.observation_space.shape[0]\n",
    "        self.action_dim = env.action_space.n\n",
    "        self.device = torch.device(\"cuda\" if torch.cuda.is_available() and self.cuda else \"cpu\")\n",
    "        \n",
    "args = parse_args()"
   ]
  },
  {
   "cell_type": "markdown",
   "id": "e0866057",
   "metadata": {
    "id": "e0866057"
   },
   "source": [
    "And two helper functions: one for setting seeds, one for simple orthogonal initialization of linear layers, and one for saving and downloading training results."
   ]
  },
  {
   "cell_type": "code",
   "execution_count": 20,
   "id": "97603d29",
   "metadata": {
    "id": "97603d29"
   },
   "outputs": [],
   "source": [
    "def set_seed_everywhere(env, seed):\n",
    "    torch.manual_seed(seed)\n",
    "    if torch.cuda.is_available():\n",
    "        torch.cuda.manual_seed_all(seed)\n",
    "    np.random.seed(seed)\n",
    "    env.seed(seed)\n",
    "    \n",
    "def weight_init(model):\n",
    "    if isinstance(model, nn.Linear):\n",
    "        nn.init.orthogonal_(model.weight.data)\n",
    "        model.bias.data.fill_(0.0)\n",
    "\n",
    "def download_numpy(filename, data):\n",
    "    pass\n",
    "    # np.save(filename, data)\n",
    "    # files.download(filename)"
   ]
  },
  {
   "cell_type": "markdown",
   "id": "32176d86",
   "metadata": {
    "id": "32176d86"
   },
   "source": [
    "## 0. DQN"
   ]
  },
  {
   "cell_type": "markdown",
   "id": "8ed14f18",
   "metadata": {
    "id": "8ed14f18"
   },
   "source": [
    "Deep Q-Network (DQN) [(Mnih 2014)](https://www.cs.toronto.edu/~vmnih/docs/dqn.pdf) is a reinforcement learning algorithm that uses a deep neural network to learn a Q-function, which is a function that estimates the expected return for taking a given action in a given state. The goal of the DQN algorithm is to learn a policy that maximizes the expected return by learning the Q-function and selecting the action with the highest estimated return in each state.\n",
    "\n",
    "The DQN algorithm consists of two main components: a Q-network and an experience buffer. The Q-network is a deep neural network that takes in a state as input and outputs the estimated Q-values for each possible action. The experience buffer is a data structure that stores a set of experiences. The DQN algorithm works by interacting with the environment and storing the experiences in the experience buffer. The Q-network is then trained using a mini-batch of experiences uniformly sampled from the experience buffer. This process is known as experience replay and is used to decorrelate the experiences and to stabilize the learning process. The Q-network is updated using the loss function:\n",
    "\n",
    "$$\n",
    "\\mathcal{L}_{\\theta} = \\frac{1}{B} \\sum_{i=1}^{B} \\bigl( \\mathrm{TD}~(s_i, a_i, s^{'}_{i}) \\bigr)^{2}\n",
    "$$\n",
    "\n",
    "With:\n",
    "\n",
    "$$\n",
    "\\mathrm{TD}~(s_i, a_i, s^{'}_{i}) = Q_{\\theta}~(s_i,a_i) - \\bigl(r_{(s_i,a_i,s_{i}^{'})} + \\gamma ~ \\underset{a^{'}_{i} \\sim \\bar{Q}_{\\theta}}{\\mathrm{max}} ~ \\bar{Q}_{\\theta}~(s_{i}^{'},a_{i}^{'}) \\bigr)\n",
    "$$\n",
    "\n",
    "Where $Q_{\\theta}$ and $\\bar{Q}_{\\theta}$ denote learned and target Q-networks respectively. The target network is a copy of the Q-network that is updated less frequently, and using it to compute the target Q-values helps to stabilize the learning process and improve the performance of the DQN algorithm. Note that to increase stability of training we use Huber loss (smooth_l1_loss) instead of L2.\n",
    "\n",
    "There are several ways to incorporate exploration into the DQN algorithm. One common method is to use an $\\epsilon$-greedy exploration strategy, where the agent takes a random action with probability $\\epsilon$ and takes the action with the highest estimated Q-value with probability $1 - \\epsilon$. The value of $\\epsilon$ is typically decreased over time, so that the agent initially explores more and then gradually shifts towards exploitation as it learns more about the environment.\n",
    "\n",
    "Below, we implement all the components of a basic DQN. We start with the experience buffer - a data structure that stores a set of transitions, where a transition is typically represented as a tuple $(s, a, r, s', t)$, where $s$ is the state, $a$ is the action taken in state $s$, $r$ is the reward received by performing $a$ in $s$ and getting to $s'$, $s'$ is the new state observed after performing $a$ in $s$ and $t$ is the termination boolean (true if $s'$ is terminal). Experience buffers are used to store the experiences of an agent as it interacts with an environment, and are used to train a Q-function, which is a function that estimates the expected return for taking a given action in a given state. We implement **ExperienceBuffer** class using NumPy arrays and we define two methods:\n",
    "\n",
    "1. *add* - adds transition to the buffer\n",
    "2. *sample* - samples a batch of transitions from the buffer"
   ]
  },
  {
   "cell_type": "code",
   "execution_count": 21,
   "id": "53e147c5",
   "metadata": {
    "id": "53e147c5"
   },
   "outputs": [],
   "source": [
    "class ExperienceBuffer:\n",
    "    def __init__(self, args):\n",
    "        self.states = np.zeros((args.capacity, args.state_dim), dtype=np.float32)\n",
    "        self.actions = np.zeros((args.capacity, 1), dtype=np.int64)\n",
    "        self.rewards = np.zeros((args.capacity, 1), dtype=np.float32)\n",
    "        self.next_states = np.zeros((args.capacity, args.state_dim), dtype=np.float32)\n",
    "        self.terminals = np.zeros((args.capacity, 1), dtype=np.int64)\n",
    "        self.full = False\n",
    "        self.idx = 0\n",
    "        self.args = args \n",
    "        \n",
    "    def add(self, state, action, reward, next_state, terminal):\n",
    "        self.states[self.idx, :] = state\n",
    "        self.actions[self.idx, :] = action\n",
    "        self.rewards[self.idx, :] = reward\n",
    "        self.next_states[self.idx, :] = next_state\n",
    "        self.terminals[self.idx, :] = 1 if terminal else 0\n",
    "        self.idx += 1\n",
    "        if self.idx == self.args.capacity:\n",
    "            self.full = True\n",
    "            self.idx = 0\n",
    "            \n",
    "    def sample(self):\n",
    "        idx = np.random.permutation(self.args.capacity)[:self.args.batch_size] if self.full else np.random.permutation(self.idx-1)[:self.args.batch_size]\n",
    "        states = torch.from_numpy(self.states[idx]).to(self.args.device)\n",
    "        actions = torch.from_numpy(self.actions[idx]).to(self.args.device)\n",
    "        rewards = torch.from_numpy(self.rewards[idx]).to(self.args.device)\n",
    "        next_states = torch.from_numpy(self.next_states[idx]).to(self.args.device)\n",
    "        terminals = torch.from_numpy(self.terminals[idx]).long().to(self.args.device)\n",
    "        return states, actions, rewards, next_states, terminals"
   ]
  },
  {
   "cell_type": "markdown",
   "id": "9fdcd965",
   "metadata": {
    "id": "9fdcd965"
   },
   "source": [
    "**QNetwork** class is a simple nn.Module MLP. Note the output size being equal to the amount of actions in the environment."
   ]
  },
  {
   "cell_type": "code",
   "execution_count": 22,
   "id": "e3fb7c14",
   "metadata": {
    "id": "e3fb7c14"
   },
   "outputs": [],
   "source": [
    "class QNetwork(nn.Module):\n",
    "    def __init__(self, args):\n",
    "        super(QNetwork, self).__init__()\n",
    "        self.layers = nn.Sequential(\n",
    "           nn.Linear(args.state_dim, args.hidden_dim), nn.ReLU(),\n",
    "            nn.Linear(args.hidden_dim, args.hidden_dim), nn.ReLU(),\n",
    "            nn.Linear(args.hidden_dim, args.action_dim))\n",
    "        self.apply(weight_init)\n",
    "        \n",
    "    def forward(self, x):\n",
    "        return self.layers(x)"
   ]
  },
  {
   "cell_type": "markdown",
   "id": "03ed7a71",
   "metadata": {
    "id": "03ed7a71"
   },
   "source": [
    "Finally we implement DQN agent. The class has following methods:\n",
    "\n",
    "1. *get_action* - returns action in given state using $\\epsilon$-greedy\n",
    "2. *anneal* - reduces the value of $\\epsilon$ dependent on the training step\n",
    "3. *update* - samples a batch of transitions from the experience buffer and performs a DQN update\n",
    "4. *update_target* - performs a hard update on the target Q network $\\bar{Q}_{\\theta}$\n",
    "5. *evaluate* - performs evaluation of the agent with a greedy policy \n",
    "6. *reset* - resets the agent (used between seeds)"
   ]
  },
  {
   "cell_type": "code",
   "execution_count": 23,
   "id": "28b71037",
   "metadata": {
    "id": "28b71037"
   },
   "outputs": [],
   "source": [
    "class DQN:\n",
    "    def __init__(self, args):\n",
    "        super(DQN, self).__init__()\n",
    "        self.args = args \n",
    "        self.buffer = ExperienceBuffer(self.args)\n",
    "        self.epsilon = 1\n",
    "        self.q_net = QNetwork(self.args).to(self.args.device)\n",
    "        self.q_target = QNetwork(self.args).to(self.args.device)\n",
    "        self.q_target.load_state_dict(self.q_net.state_dict())\n",
    "        self.optimizer = optim.Adam(self.q_net.parameters(), lr=self.args.learning_rate, eps=1e-5)\n",
    "                \n",
    "    def get_action(self, state, exploration=True):\n",
    "        with torch.no_grad():\n",
    "            return np.random.randint(self.args.action_dim) if np.random.sample() < self.epsilon and exploration else torch.argmax(self.q_net(state)).item()\n",
    "\n",
    "    def anneal(self, step):\n",
    "        self.epsilon = ((self.args.epsilon_limit - 1)/self.args.anneal_steps) * step + 1 if step < self.args.anneal_steps else self.epsilon\n",
    "\n",
    "    def update(self):\n",
    "        states, actions, rewards, next_states, terminals = self.buffer.sample()\n",
    "        with torch.no_grad():\n",
    "            q_ns = torch.max(self.q_target(next_states), dim=1)[0].unsqueeze(1)\n",
    "        q_targets = rewards + (1-terminals) * self.args.discount * q_ns\n",
    "        \n",
    "        self.optimizer.zero_grad()\n",
    "        q_values = self.q_net(states).gather(1, actions)\n",
    "        loss = nn.functional.smooth_l1_loss(q_values, q_targets)\n",
    "        loss.backward()\n",
    "        self.optimizer.step()\n",
    "    \n",
    "    def update_target(self):\n",
    "        self.q_target.load_state_dict(self.q_net.state_dict())\n",
    "        \n",
    "    def evaluate(self, samples):\n",
    "        with torch.no_grad():\n",
    "            env_test = gym.make(self.args.gym_id)\n",
    "            eval_reward = 0\n",
    "            for i in range(samples):\n",
    "                state = env_test.reset()\n",
    "                episode_reward = 0\n",
    "                while True:\n",
    "                    action = self.get_action(torch.tensor(state).unsqueeze(0).to(self.args.device), False)\n",
    "                    next_state, reward, terminal, _ = env_test.step(action)\n",
    "                    episode_reward += reward\n",
    "                    state = next_state\n",
    "                    if terminal:\n",
    "                        eval_reward += episode_reward/samples\n",
    "                        break\n",
    "        return eval_reward\n",
    "    \n",
    "    def reset(self):\n",
    "        self.buffer = ExperienceBuffer(self.args)\n",
    "        self.epsilon = 1\n",
    "        self.q_net = QNetwork(self.args).to(self.args.device)\n",
    "        self.q_target = QNetwork(self.args).to(self.args.device)\n",
    "        self.q_target.load_state_dict(self.q_net.state_dict())\n",
    "        self.optimizer = optim.Adam(self.q_net.parameters(), lr=self.args.learning_rate, eps=1e-5)"
   ]
  },
  {
   "cell_type": "markdown",
   "id": "f539a644",
   "metadata": {
    "id": "f539a644"
   },
   "source": [
    "Finally, we provide code for agent training:"
   ]
  },
  {
   "cell_type": "code",
   "execution_count": 24,
   "id": "385a9330",
   "metadata": {
    "id": "385a9330"
   },
   "outputs": [],
   "source": [
    "def train_agent(args, agent):\n",
    "    results = np.zeros((args.total_timesteps//args.evaluate_freq, args.samples))\n",
    "    for seed in range(args.samples):\n",
    "        env = gym.make(args.gym_id)\n",
    "        agent.reset()\n",
    "        set_seed_everywhere(env, seed)\n",
    "        state = env.reset()\n",
    "        for step in range(args.total_timesteps):\n",
    "            if step == args.init_steps:\n",
    "                start_time = time.time()\n",
    "            action = agent.get_action(torch.tensor(state).unsqueeze(0).to(args.device))\n",
    "            next_state, reward, terminal, _ = env.step(action)\n",
    "            agent.buffer.add(state, action, reward, next_state, terminal)\n",
    "            agent.anneal(step)\n",
    "            state = next_state\n",
    "            if step >= args.init_steps:\n",
    "                agent.update()\n",
    "                if (step + 1) % args.target_update_freq == 0:\n",
    "                    agent.update_target()\n",
    "                if (step + 1) % args.evaluate_freq == 0:\n",
    "                    eval_reward = agent.evaluate(args.evaluate_samples)\n",
    "                    results[step//args.evaluate_freq, seed] = eval_reward\n",
    "                    print(\"\\rStep: {} Evaluation reward: {:.2f} Samples per second: {:}\".format(step, eval_reward, int((step-args.init_steps)/(time.time()-start_time))), end=\"\")\n",
    "            if terminal:\n",
    "                state = env.reset()\n",
    "                episode_reward = 0\n",
    "    return results"
   ]
  },
  {
   "cell_type": "markdown",
   "id": "ff186311",
   "metadata": {
    "id": "ff186311"
   },
   "source": [
    "Note that you should not change the code above - you should be able to perform all tasks by creating new classes. We train the DQN agent with given hyperparameters and inspect the results:"
   ]
  },
  {
   "cell_type": "code",
   "execution_count": 25,
   "id": "938d29b1",
   "metadata": {
    "id": "938d29b1",
    "colab": {
     "base_uri": "https://localhost:8080/",
     "height": 91
    },
    "outputId": "ef63b6b4-3442-43b9-9891-a2c085182722"
   },
   "outputs": [
    {
     "name": "stdout",
     "output_type": "stream",
     "text": [
      "Step: 39999 Evaluation reward: 122.00 Samples per second: 2143"
     ]
    },
    {
     "data": {
      "text/plain": "-48.052642722424615"
     },
     "execution_count": 25,
     "metadata": {},
     "output_type": "execute_result"
    }
   ],
   "source": [
    "agent = DQN(args)\n",
    "results_dqn = train_agent(args, agent)\n",
    "download_numpy(\"results_dqn.npy\", results_dqn)\n",
    "results_dqn.mean(1)[10:].mean()\n",
    "#results_dqn.mean(1)"
   ]
  },
  {
   "cell_type": "code",
   "source": [
    "print(results_dqn.mean(1)[10:].mean())\n",
    "print(results_dqn.mean(1).mean())"
   ],
   "metadata": {
    "colab": {
     "base_uri": "https://localhost:8080/"
    },
    "id": "mA7Duectw4rD",
    "outputId": "ecce297a-be6c-45f4-dae8-1e3768107e9d"
   },
   "id": "mA7Duectw4rD",
   "execution_count": 26,
   "outputs": [
    {
     "name": "stdout",
     "output_type": "stream",
     "text": [
      "-48.052642722424615\n",
      "-36.03948204181846\n"
     ]
    }
   ]
  },
  {
   "cell_type": "code",
   "source": [],
   "metadata": {
    "id": "Qh4U_FOPw3pD"
   },
   "id": "Qh4U_FOPw3pD",
   "execution_count": 26,
   "outputs": []
  },
  {
   "cell_type": "markdown",
   "id": "3376e3e2",
   "metadata": {
    "id": "3376e3e2"
   },
   "source": [
    "As you can see, the vanilla DQN does not yield optimal performance given the budget and exploration constraints. Below is the first module that you have to add to the DQN algorithm."
   ]
  },
  {
   "cell_type": "markdown",
   "id": "64e5bfc1",
   "metadata": {
    "id": "64e5bfc1"
   },
   "source": [
    "## 1. Double DQN\n",
    "\n",
    "The loss function of vanilla DQN is defined as the average of single transition temporal difference (TD) error over $B$ transitions:\n",
    "\n",
    "$$\n",
    "\\mathcal{L}_{\\theta} = \\frac{1}{B} \\sum_{i=1}^{B} \\bigl( \\mathrm{TD}~(s_i, a_i, s^{'}_{i}) \\bigr)^{2}\n",
    "$$\n",
    "\n",
    "With transitions $(s_i, a_i, s^{'}_{i})$ sampled uniformly from the experience buffer. The transition TD error is defined through Bellman optimality condition:\n",
    "\n",
    "$$\n",
    "\\mathrm{TD}~(s_i, a_i, s^{'}_{i}) = Q_{\\theta}~(s_i,a_i) - \\bigl(r_{(s_i,a_i,s_{i}^{'})} + \\gamma ~ \\underset{a^{'}_{i} \\sim \\bar{Q}_{\\theta}}{\\mathrm{max}} ~ \\bar{Q}_{\\theta}~(s_{i}^{'},a_{i}^{'}) \\bigr)\n",
    "$$\n",
    "\n",
    "Where $Q_{\\theta}$ and $\\bar{Q}_{\\theta}$ denote learned and target Q-networks respectively. In the setup above $a_{i}^{'}$ is chosen via maximum operation over the output of the target Q-network for $s^{'}_{i}$. Using a single network to choose the best action and estimate its Q-value promotes overestimated values. Using such values for supervision leads in turn to general overoptimism of the Q-network and is known to sabotage the training.\n",
    "\n",
    "In Double Deep Q-Network (DDQN) [(van Hasselt 2015)](https://arxiv.org/pdf/1509.06461.pdf) proposes using two Q-networks in the process of target estimation: one Q-network to choose the maximum valued action from (i.e. *argmax*); and the second one to estimate value of the chosen action (i.e. Q-value estimation for the *argmax* result). Authors show that in DDQN estimated Q-values are less likely to be inflated and lead to more stable learning and better policies. We can use $Q_{\\theta}$ and $\\bar{Q}_{\\theta}$ to augment DQN into DDQN: \n",
    "\n",
    "$$\n",
    "\\mathrm{TD}~(s_i, a_i, s^{'}_{i}) = Q_{\\theta}~(s_i,a_i) - \\bigl(r_{(s_i,a_i,s_{i}^{'})} + \\gamma ~ \\bar{Q}_{\\theta}~(s_{i}^{'},\\underset{a^{'}_{i} \\sim Q_{\\theta}}{\\mathrm{argmax}} ~ Q_{\\theta} (s_{i}^{'}, a^{'}_{i})  \\bigr)\n",
    "$$\n",
    "\n",
    "Such definition of DDQN leads to very small code changes w.r.t. vanilla DQN implementation. Although $Q_{\\theta}$ and $\\bar{Q}_{\\theta}$ are not fully decoupled, using them leads to good performance increase without introduction of additional networks."
   ]
  },
  {
   "cell_type": "markdown",
   "id": "19bee972",
   "metadata": {
    "id": "19bee972"
   },
   "source": [
    "### Task 1.1: Implement and train DDQN \n",
    "Implement the *update* method for **DDQN** class (no other method of the base class should be changed): "
   ]
  },
  {
   "cell_type": "code",
   "execution_count": 27,
   "id": "c7b682c0",
   "metadata": {
    "id": "c7b682c0"
   },
   "outputs": [],
   "source": [
    "class DDQN(DQN):\n",
    "    def __init__(self, args):\n",
    "        super(DDQN, self).__init__(args)\n",
    "        \n",
    "    def update(self):\n",
    "        states, actions, rewards, next_states, terminals = self.buffer.sample()\n",
    "\n",
    "        with torch.no_grad():\n",
    "          x = self.q_net(next_states)\n",
    "          q_ns = self.q_target(next_states).gather(1, torch.argmax(x, dim=1).unsqueeze(1))\n",
    "        \n",
    "        q_targets = (1 - terminals) * q_ns * self.args.discount + rewards\n",
    "\n",
    "        self.optimizer.zero_grad()\n",
    "        q_values = self.q_net(states).gather(1, actions)\n",
    "        loss = nn.functional.smooth_l1_loss(q_values, q_targets)\n",
    "        loss.backward()\n",
    "        self.optimizer.step()"
   ]
  },
  {
   "cell_type": "code",
   "execution_count": 28,
   "id": "926c3cc9",
   "metadata": {
    "id": "926c3cc9",
    "colab": {
     "base_uri": "https://localhost:8080/",
     "height": 323
    },
    "outputId": "d69811e0-2bc9-42ce-ae5d-81a6b3e198de"
   },
   "outputs": [
    {
     "name": "stdout",
     "output_type": "stream",
     "text": [
      "Step: 39999 Evaluation reward: -40.94 Samples per second: 24166"
     ]
    },
    {
     "data": {
      "text/plain": "array([   0.        ,    0.        ,    0.        ,    0.        ,\n          0.        ,    0.        ,    0.        ,    0.        ,\n          0.        ,    0.        , -135.78299154, -131.98527828,\n        -56.35225031,  -29.12090707,  -79.21976357, -116.59933904,\n       -163.58042135, -132.63028824, -121.85715278, -110.61610057,\n        -74.94546634, -165.94591753, -397.71209674,  -62.73675619,\n        -52.37800572,   25.14589097,  -94.2147638 ,  -20.6975997 ,\n         -3.5143188 , -221.46559294,  -38.20283349,  -22.18516895,\n         40.47718859,   38.42251635,   12.5720392 ,   99.22670433,\n         46.45094488,    3.03160181,   26.92948307,   25.86797762])"
     },
     "execution_count": 28,
     "metadata": {},
     "output_type": "execute_result"
    }
   ],
   "source": [
    "agent = DDQN(args)\n",
    "results_dqn1 = train_agent(args, agent)\n",
    "download_numpy(\"results_dqn1.npy\", results_dqn1)\n",
    "results_dqn1.mean(1)[-10:].mean()\n",
    "results_dqn1.mean(1)"
   ]
  },
  {
   "cell_type": "code",
   "source": [
    "print(results_dqn1.mean(1)[10:].mean())\n",
    "print(results_dqn1.mean(1).mean())"
   ],
   "metadata": {
    "colab": {
     "base_uri": "https://localhost:8080/"
    },
    "id": "chQYk1T7xK5z",
    "outputId": "7878b68a-89a7-4d12-87a0-4c1aa428045c"
   },
   "id": "chQYk1T7xK5z",
   "execution_count": 29,
   "outputs": [
    {
     "name": "stdout",
     "output_type": "stream",
     "text": [
      "-63.787288870761024\n",
      "-47.84046665307075\n"
     ]
    }
   ]
  },
  {
   "cell_type": "markdown",
   "id": "004bf3a3",
   "metadata": {
    "id": "004bf3a3"
   },
   "source": [
    "## 2. $\\mathrm{TD}_{n}$ - N-step Q-value estimation\n",
    "\n",
    "$N$-step TD ($\\mathrm{TD}_{n}$) was introduced long before neural network based RL. In regular TD, we supervise the Q-network with single-step reward summed with highest Q-value of the next state. In contrast to that, $\\mathrm{TD}_{n}$ accumulated rewards over $n$ steps and sums it with the highest Q-value of the state that occured after $n$ steps [(Sutton 1988)](http://incompleteideas.net/papers/sutton-88-with-erratum.pdf). Double DQN $\\mathrm{TD}_{n}$ loss is defined by:\n",
    "\n",
    "$$\n",
    "\\mathrm{TD}_{n}(s_i, a_i, s^{'}_{i+n}) = Q_{\\theta}~(s_i,a_i) - \\biggl(\\sum_{k=0}^{n-1} \\gamma^{k} ~ r_{(s_{i+k},a_{i+k},s_{i+k}^{'})} + \\gamma^{n} \\underset{a^{'}_{i+n} \\sim \\bar{Q}_{\\theta}}{\\mathrm{max}} ~ \\bar{Q}_{\\theta}~(s_{i+n}^{'},a_{i+n}^{'}) \\biggr)\n",
    "$$\n",
    "\n",
    "Implementing $\\mathrm{TD}_{n}$ requires changes to the ExperienceBuffer class. We will implement those changes using the **deque** module. This module will store $n$ of the most recent transitions, and will act as an intermediate between agent and buffers main storage. As compared to single step reward and $s_{i}^{'}$ stored by the simple ExperienceBuffer, the main storage of this upgraded buffer should store $n$ step rewards and $s_{i+n}^{'}$."
   ]
  },
  {
   "cell_type": "markdown",
   "id": "f448764d",
   "metadata": {
    "id": "f448764d"
   },
   "source": [
    "### Task 2.1 Implement NStepBuffer\n",
    "Implement *get_nstep* method for **NStepBuffer** class (no other method of base class should be changed). The *get_nstep* method should process current memory and output a tuple of five:\n",
    "* state for which the $\\mathrm{TD}_{n}$ reward was computed,\n",
    "* action chosen in that step in processed trajectory,\n",
    "* $\\mathrm{TD}_{n}$ reward computed using *nstep* rewards,\n",
    "* state reached after *nstep* steps (possibly earlier if terminal state was encountered),\n",
    "* terminal flag, that notifies wheather trajectory has reached terminal state within *nstep* steps."
   ]
  },
  {
   "cell_type": "code",
   "execution_count": 30,
   "id": "12560df7",
   "metadata": {
    "id": "12560df7"
   },
   "outputs": [],
   "source": [
    "from collections import deque\n",
    "\n",
    "class NStepBuffer(ExperienceBuffer):\n",
    "    def __init__(self, args, nstep):\n",
    "        super(NStepBuffer, self).__init__(args)\n",
    "        self.memories = deque(maxlen=nstep)\n",
    "        self.nstep = nstep \n",
    "        \n",
    "    def add(self, state, action, reward, next_state, terminal):\n",
    "        terminal_ = 1 if terminal else 0 \n",
    "        memory = (state, action, reward, next_state, terminal_)\n",
    "        self.memories.append(memory)\n",
    "        if len(self.memories) >= self.nstep:\n",
    "            state, action, reward, next_state, terminal = self.get_nstep()\n",
    "            self.states[self.idx, :] = state\n",
    "            self.actions[self.idx, :] = action\n",
    "            self.rewards[self.idx, :] = reward\n",
    "            self.next_states[self.idx, :] = next_state\n",
    "            self.terminals[self.idx, :] = terminal\n",
    "            self.idx += 1\n",
    "            if self.idx == self.args.capacity:\n",
    "                self.full = True\n",
    "                self.idx = 0\n",
    "    \n",
    "    def get_nstep(self):\n",
    "        state, action, _, last_state, _ = self.memories[0]\n",
    "        reward = 0\n",
    "        terminal = 0\n",
    "        discount = 1\n",
    "\n",
    "        for _, _, state_reward, next_state, t in self.memories:\n",
    "          last_state = next_state\n",
    "          reward += discount * state_reward\n",
    "          discount = discount * self.args.discount\n",
    "          if t:\n",
    "            terminal = 1\n",
    "            break\n",
    "\n",
    "        return state, action, reward, last_state, terminal\n"
   ]
  },
  {
   "cell_type": "markdown",
   "id": "34d45601",
   "metadata": {
    "id": "34d45601"
   },
   "source": [
    "### Task 2.2: Implement and train N-step DQN \n",
    "Implement the *update* method for **NStepDQN** class (no other method of base class should be changed): "
   ]
  },
  {
   "cell_type": "code",
   "execution_count": 31,
   "id": "0d1cb4c6",
   "metadata": {
    "id": "0d1cb4c6"
   },
   "outputs": [],
   "source": [
    "class NStepDQN(DQN):\n",
    "    def __init__(self, args, nstep=3):\n",
    "        super(NStepDQN, self).__init__(args)\n",
    "        self.nstep = nstep\n",
    "        self.buffer = NStepBuffer(args, nstep)\n",
    "        \n",
    "    def update(self):\n",
    "        states, actions, rewards, next_states, terminals = self.buffer.sample()\n",
    "        with torch.no_grad():\n",
    "          q_ns = torch.max(self.q_target(next_states), dim=1)[0].unsqueeze(1)\n",
    "        q_targets = rewards + (1-terminals) * q_ns * (self.args.discount ** self.nstep)\n",
    "\n",
    "        self.optimizer.zero_grad()\n",
    "        q_values = self.q_net(states).gather(1, actions)\n",
    "        loss = nn.functional.smooth_l1_loss(q_values, q_targets)\n",
    "        loss.backward()\n",
    "        self.optimizer.step()  \n",
    "        \n",
    "    def reset(self):\n",
    "        super().reset()\n",
    "        self.buffer = NStepBuffer(self.args, self.nstep)"
   ]
  },
  {
   "cell_type": "code",
   "execution_count": 32,
   "id": "e27e7900",
   "metadata": {
    "id": "e27e7900",
    "colab": {
     "base_uri": "https://localhost:8080/",
     "height": 35
    },
    "outputId": "4efa7b2e-1fd2-47b2-d2be-cd226133cff6"
   },
   "outputs": [
    {
     "name": "stdout",
     "output_type": "stream",
     "text": [
      "Step: 39999 Evaluation reward: 204.60 Samples per second: 2529"
     ]
    },
    {
     "data": {
      "text/plain": "141.88447445559774"
     },
     "execution_count": 32,
     "metadata": {},
     "output_type": "execute_result"
    }
   ],
   "source": [
    "agent = NStepDQN(args)\n",
    "results_dqn2 = train_agent(args, agent)\n",
    "download_numpy(\"results_dqn2.npy\", results_dqn2)\n",
    "results_dqn2.mean(1)[-10:].mean()"
   ]
  },
  {
   "cell_type": "code",
   "source": [
    "print(results_dqn2.mean(1)[10:].mean())\n",
    "print(results_dqn2.mean(1).mean())\n"
   ],
   "metadata": {
    "colab": {
     "base_uri": "https://localhost:8080/"
    },
    "id": "kHew8ji9wh6t",
    "outputId": "023a14b9-b6d6-44e4-fe3b-c95d04090c6d"
   },
   "id": "kHew8ji9wh6t",
   "execution_count": 33,
   "outputs": [
    {
     "name": "stdout",
     "output_type": "stream",
     "text": [
      "39.87634973333516\n",
      "29.907262300001367\n"
     ]
    }
   ]
  },
  {
   "cell_type": "markdown",
   "id": "327ef325",
   "metadata": {
    "id": "327ef325"
   },
   "source": [
    "## 3. Noisy Layer Exploration\n",
    "\n",
    "$\\epsilon$-greedy exploration is not well suited for environments that require complex sequences of actions to achieve success. $\\epsilon$ value must be set manually, and finding a good value can be difficult and costly. A value that is too high will result in too much exploration and slow down learning, while a value that is too low will not allow the agent to gather enough information about the environment. Now, we will introduce a different method for exploration.\n",
    "\n",
    "Noisy linear layer, is a type of layer that can be added to a neural network [(Fortunato et al. 2017)](https://arxiv.org/pdf/1706.10295.pdf). These layers add a learned noise to the parameters of the network, which adds stochasticity to the network output. Noisy parameters can induce complex multi-step changes in estimated Q-values and the policy. Noisy linear layers can be more effective than $\\epsilon$-greedy in environments with sparse rewards or long-term dependencies, but they can also be less sample-efficient than well tuned $\\epsilon$-greedy strategy in simpler settings. \n",
    "\n",
    "Regular linear layer has $pq + q$ parameters, where $p$ and $q$ denote number of inputs and outputs in the layer. Denoting weight matrix as $W \\in \\mathbb{R}^{q \\times p}$, bias vector as $B \\in \\mathbb{R}^q$ and layer input as $X \\in \\mathbb{R}^p$, linear layer performs:\n",
    "\n",
    "$$\n",
    "Y = W X + B\n",
    "$$\n",
    "\n",
    "In contrast to that, noisy linear layer is defined as:\n",
    "\n",
    "$$\n",
    "Y = \\bigl( \\mu^W + \\sigma^W \\odot \\epsilon^W \\bigr) X + \\bigl( \\mu^B + \\sigma^B \\odot \\epsilon^B \\bigr)\n",
    "$$\n",
    "\n",
    "where $\\mu^W + \\sigma^W \\odot \\epsilon^W$ and $\\mu^B + \\sigma^B \\odot \\epsilon^B$ replace $W$ and $B$ in the first linear layer equation. The parameters $\\mu^W \\in \\mathbb{R}^{q \\times p}, \\mu^B \\in \\mathbb{R}^q, \\sigma^W \\in \\mathbb{R}^{q \\times p}$ and $\\sigma^B \\in \\mathbb{R}^q$ are learnt jointly via the single Q-network loss; $\\epsilon^W \\in \\mathbb{R}^{q \\times p}$ and $\\epsilon^B \\in \\mathbb{R}^q$ is the random noise. In principle, the random noise can be generated following any distribution, but the authors consider two strategies:\n",
    "\n",
    "1. **Independent Gaussian noise** - We generate each noise entry independently. As such, we perform $pq + q$ calls to the Gaussian noise generator. Simple, but can be costly for big networks\n",
    "\n",
    "2. **Factorised Gaussian noise** - This is a more computationally efficient way that authors use in the original paper. Instead of generating $pq + q$ entries independently, we generate two noise vectors: $\\epsilon^{p}, \\epsilon^{B} \\sim N(0, 1)$. Then, entries to $\\epsilon^W$ are given by:\n",
    "\n",
    "$$\n",
    "\\epsilon^{W}_{i,j} = f(\\epsilon^{p}_{i}) f(\\epsilon^{B}_{j}) \\quad \\text{with} \\quad f(x) = sgn(x) \\sqrt{|x|}.\n",
    "$$"
   ]
  },
  {
   "cell_type": "markdown",
   "id": "18c32694",
   "metadata": {
    "id": "18c32694"
   },
   "source": [
    "### Task 3.1 Implement NoisyLinear layer \n",
    "Implement the **NoisyLinear** class. The parameters of the noisy linear layer should be initialized with a correct initialization scheme (see section 3.2 in [Fortunato et al. 2017](https://arxiv.org/pdf/1706.10295.pdf)). The class should have the following methods:\n",
    "\n",
    "1. *get_noise* - the method should generate $\\epsilon^{W}$ and $\\epsilon^{B}$ using the factorised Gaussian noise procedure\n",
    "2. *forward* - generate noise and perform a forward pass"
   ]
  },
  {
   "cell_type": "code",
   "execution_count": 34,
   "id": "d5caceb9",
   "metadata": {
    "id": "d5caceb9"
   },
   "outputs": [],
   "source": [
    "import torch.nn.functional as F\n",
    "import sys\n",
    "\n",
    "class NoisyLinear(nn.Module):\n",
    "    def __init__(self, input_size, output_size, std):\n",
    "        super(NoisyLinear, self).__init__()\n",
    "\n",
    "        self.std = std\n",
    "        self.input_size = input_size\n",
    "        self.output_size = output_size\n",
    "        self.sigma0 = std\n",
    "\n",
    "        in_out_scale = 1. / np.sqrt(input_size)\n",
    "\n",
    "        self.w_mu = nn.Parameter(torch.Tensor(output_size, input_size))\n",
    "        self.w_mu.data.uniform_(-in_out_scale, in_out_scale)\n",
    "\n",
    "        self.w_sigma = nn.Parameter(torch.Tensor(output_size, input_size))\n",
    "        self.w_sigma.data.fill_(self.sigma0 / np.sqrt(self.input_size))\n",
    "\n",
    "        self.b_mu = nn.Parameter(torch.Tensor(output_size))\n",
    "        self.b_mu.data.uniform_(-in_out_scale, in_out_scale)\n",
    "\n",
    "        self.b_sigma = nn.Parameter(torch.Tensor(output_size))\n",
    "        self.b_sigma.data.fill_(self.sigma0 / np.sqrt(self.input_size))\n",
    "\n",
    "    def get_device(self):\n",
    "        return self.w_mu.device\n",
    "\n",
    "    def get_noise(self):\n",
    "        p_eps = torch.rand(self.input_size).to(self.get_device())\n",
    "        b_eps = torch.rand(self.output_size).to(self.get_device())\n",
    "\n",
    "        b_noise = (torch.sgn(b_eps) * torch.sqrt(torch.abs(b_eps))).to(self.get_device())\n",
    "        p_noise = (torch.sgn(p_eps) * torch.sqrt(torch.abs(p_eps))).to(self.get_device())\n",
    "\n",
    "        w_noise = torch.outer(b_noise, p_noise).to(self.get_device())\n",
    "        return w_noise, b_eps\n",
    "\n",
    "\n",
    "    def forward(self, x):\n",
    "        w_noise, b_noise = self.get_noise()\n",
    "        w = self.w_mu + self.w_sigma * w_noise\n",
    "        b = self.b_mu + self.b_sigma * b_noise\n",
    "        return F.linear(x, w, b)\n",
    "\n",
    "\n",
    "class NoisyQNetwork(nn.Module):\n",
    "    def __init__(self, args, std):\n",
    "        super(NoisyQNetwork, self).__init__()\n",
    "        self.layers = nn.Sequential(\n",
    "            nn.Linear(args.state_dim, args.hidden_dim), nn.ReLU(),\n",
    "            NoisyLinear(args.hidden_dim, args.hidden_dim, std), nn.ReLU(),\n",
    "            NoisyLinear(args.hidden_dim, args.action_dim, std))\n",
    "        \n",
    "    def forward(self, x):\n",
    "        return self.layers(x)"
   ]
  },
  {
   "cell_type": "markdown",
   "id": "a9a3c6d8",
   "metadata": {
    "id": "a9a3c6d8"
   },
   "source": [
    "### Task 3.2 Train NoisyDQN with NoisyLayers \n"
   ]
  },
  {
   "cell_type": "code",
   "execution_count": 35,
   "id": "d3511485",
   "metadata": {
    "id": "d3511485"
   },
   "outputs": [],
   "source": [
    "class NoisyDQN(DQN):\n",
    "    def __init__(self, args, std=0.2):\n",
    "        super(NoisyDQN, self).__init__(args)\n",
    "        self.q_net = NoisyQNetwork(args, std).to(args.device)\n",
    "        self.q_target = NoisyQNetwork(args, std).to(args.device)\n",
    "        self.q_target.load_state_dict(self.q_net.state_dict())\n",
    "        self.optimizer = optim.Adam(self.q_net.parameters(), lr=args.learning_rate, eps=1e-5)\n",
    "        self.std = std\n",
    "        \n",
    "    def get_action(self, state, exploration=True):\n",
    "        return torch.argmax(self.q_net(state)).item()\n",
    "\n",
    "    def anneal(self, step):\n",
    "        pass\n",
    "    \n",
    "    def reset(self):\n",
    "        super().reset()\n",
    "        self.q_net = NoisyQNetwork(self.args, self.std).to(self.args.device)\n",
    "        self.q_target = NoisyQNetwork(self.args, self.std).to(self.args.device)\n",
    "        self.q_target.load_state_dict(self.q_net.state_dict())\n",
    "        self.optimizer = optim.Adam(self.q_net.parameters(), lr=self.args.learning_rate, eps=1e-5)"
   ]
  },
  {
   "cell_type": "code",
   "execution_count": 36,
   "id": "efd5e996",
   "metadata": {
    "id": "efd5e996",
    "colab": {
     "base_uri": "https://localhost:8080/",
     "height": 162
    },
    "outputId": "af5686ad-15ec-4c29-f2d0-2552af32c913"
   },
   "outputs": [
    {
     "name": "stdout",
     "output_type": "stream",
     "text": [
      "Step: 39999 Evaluation reward: -120.88 Samples per second: 113"
     ]
    },
    {
     "data": {
      "text/plain": "-44.74593154493793"
     },
     "execution_count": 36,
     "metadata": {},
     "output_type": "execute_result"
    }
   ],
   "source": [
    "agent = NoisyDQN(args)\n",
    "results_dqn3 = train_agent(args, agent)\n",
    "download_numpy(\"results_dqn3.npy\", results_dqn3)\n",
    "results_dqn3.mean(1)[-10:].mean()"
   ]
  },
  {
   "cell_type": "code",
   "source": [
    "print(results_dqn3.mean(1)[10:].mean())\n",
    "print(results_dqn3.mean(1).mean())"
   ],
   "metadata": {
    "colab": {
     "base_uri": "https://localhost:8080/"
    },
    "id": "bb4LMEY0_6Nd",
    "outputId": "258a5dec-c549-4fe2-b14c-0500009a3f50"
   },
   "id": "bb4LMEY0_6Nd",
   "execution_count": 37,
   "outputs": [
    {
     "name": "stdout",
     "output_type": "stream",
     "text": [
      "-75.39402071124218\n",
      "-56.54551553343164\n"
     ]
    }
   ]
  },
  {
   "cell_type": "markdown",
   "id": "ba25c410",
   "metadata": {
    "id": "ba25c410"
   },
   "source": [
    "## 4. DUELING DQN\n",
    "\n",
    "State-action advantage under policy $\\pi$ is given by:\n",
    "\n",
    "$$\n",
    "A^\\pi (s, a) = Q^\\pi (s, a) - V^\\pi (s)\n",
    "$$\n",
    "\n",
    "Where $A^\\pi (s, a)$ denotes state-action advantage, $Q^\\pi (s, a)$ denotes state-action Q-value and $V^\\pi (s)$ denotes state value. Advantage is a measure of how much better a particular action is than the state value. Given optimal policy it follows that $\\underset{a}{\\mathrm{max}}~Q^\\pi (s, a) = V^\\pi (s)$ and as such $A^\\pi (s, a) \\leq 0$ if $\\pi$ is optimal. We can use advantages to redefine Q-values:\n",
    "\n",
    "$$\n",
    "Q^\\pi (s, a) = V^\\pi (s) + A^\\pi (s, a)\n",
    "$$\n",
    "\n",
    "As such, we can use separate networks to predict $A^\\pi (s, a)$ and $V^\\pi (s)$ and retrieve Q-values using the equation above. This is exactly the idea behind the Dueling Q-network architecture [(Wang et al. 2015)](https://arxiv.org/pdf/1511.06581.pdf). Decoupling Q-values into values and advantages offers some optimization benefits:\n",
    "\n",
    "1. $V^\\pi (s)$ is independent of actions, as such the value network will have less parameters than a Q-network\n",
    "2. $A^\\pi (s, a)$ although action dependent, advantages oscillate around 0 and change slowly throughout the optimization\n",
    "\n",
    "Intuitively, the dueling Q-network can more efficiently learn which states are valuable, even when the actions available in those states do not affect the environment in a meaningful way. This can be particularly helpful in large or complex environments where it may not be possible to learn good action values for every state-action pair. Dueling DQN architecture uses joint feature layer and two separate heads to represent advantage and value streams (look at Figure 1. in [(Wang et al. 2015)](https://arxiv.org/pdf/1511.06581.pdf)). To further smoothen the optimization, Dueling DQN Q-value is calculated with the following:\n",
    "\n",
    "$$\n",
    "Q_\\theta (s, a) = V_\\theta (s) + \\bigl( A_\\theta (s, a) - \\sum_{a} \\frac{A_\\theta (s, a)}{N_a} \\bigr),\n",
    "$$\n",
    "\n",
    "where $N_a$ is the number of possible actions."
   ]
  },
  {
   "cell_type": "markdown",
   "id": "d6ac9783",
   "metadata": {
    "id": "d6ac9783"
   },
   "source": [
    "### Task 4.1 Implement and train DuelingQNetwork (10% points)\n",
    "Implement the **DuelingQNetwork** class and its *forward* method (no other method of the base class should be changed):"
   ]
  },
  {
   "cell_type": "code",
   "execution_count": 38,
   "id": "89b64c39",
   "metadata": {
    "id": "89b64c39"
   },
   "outputs": [],
   "source": [
    "class DuelingQNetwork(nn.Module):\n",
    "    def __init__(self, args):\n",
    "        super(DuelingQNetwork, self).__init__()\n",
    "        self.layers = nn.Sequential(\n",
    "            nn.Linear(args.state_dim, args.hidden_dim), nn.ReLU(),\n",
    "            nn.Linear(args.hidden_dim, args.hidden_dim), nn.ReLU(),)\n",
    "        self.advantage_head = nn.Linear(args.hidden_dim, args.action_dim)\n",
    "        self.value_head = nn.Linear(args.hidden_dim, 1)\n",
    "        \n",
    "    def forward(self, x):\n",
    "        x = self.layers(x)\n",
    "        advantage = self.advantage_head(x)\n",
    "        value = self.value_head(x)\n",
    "        q_values = value + advantage - advantage.mean(dim=-1, keepdim=True)\n",
    "        return q_values\n",
    "    \n",
    "class DuelingDQN(DQN):\n",
    "    def __init__(self, args):\n",
    "        super(DuelingDQN, self).__init__(args)\n",
    "        self.q_net = DuelingQNetwork(args).to(args.device)\n",
    "        self.q_target = DuelingQNetwork(args).to(args.device)\n",
    "        self.q_target.load_state_dict(self.q_net.state_dict())\n",
    "        self.optimizer = optim.Adam(self.q_net.parameters(), lr=args.learning_rate, eps=1e-5)\n",
    "        \n",
    "    def reset(self):\n",
    "        super().reset()\n",
    "        self.q_net = DuelingQNetwork(self.args).to(self.args.device)\n",
    "        self.q_target = DuelingQNetwork(self.args).to(self.args.device)\n",
    "        self.q_target.load_state_dict(self.q_net.state_dict())\n",
    "        self.optimizer = optim.Adam(self.q_net.parameters(), lr=self.args.learning_rate, eps=1e-5)"
   ]
  },
  {
   "cell_type": "code",
   "execution_count": 39,
   "id": "3a641e57",
   "metadata": {
    "id": "3a641e57",
    "colab": {
     "base_uri": "https://localhost:8080/",
     "height": 517
    },
    "outputId": "60008f03-3915-4d40-e549-5a87bf9419c2"
   },
   "outputs": [
    {
     "name": "stdout",
     "output_type": "stream",
     "text": [
      "Step: 39999 Evaluation reward: -23.76 Samples per second: 1480"
     ]
    },
    {
     "data": {
      "text/plain": "56.16155034223781"
     },
     "execution_count": 39,
     "metadata": {},
     "output_type": "execute_result"
    }
   ],
   "source": [
    "agent = DuelingDQN(args)\n",
    "results_dqn4 = train_agent(args, agent)\n",
    "# download_numpy(\"results_dqn4\", results_dqn4)\n",
    "results_dqn4.mean(1)[-10:].mean()"
   ]
  },
  {
   "cell_type": "code",
   "source": [
    "print(results_dqn4.mean(1)[10:].mean())\n",
    "print(results_dqn4.mean(1).mean())"
   ],
   "metadata": {
    "colab": {
     "base_uri": "https://localhost:8080/"
    },
    "id": "j207XtjGgWHU",
    "outputId": "a50c06b3-a088-4316-ba73-24afc4fda203"
   },
   "id": "j207XtjGgWHU",
   "execution_count": 40,
   "outputs": [
    {
     "name": "stdout",
     "output_type": "stream",
     "text": [
      "-30.919059780052212\n",
      "-23.189294835039156\n"
     ]
    }
   ]
  },
  {
   "cell_type": "markdown",
   "id": "730bb10e",
   "metadata": {
    "id": "730bb10e"
   },
   "source": [
    "## 5. Prioritized experience replay\n",
    "\n",
    "In regular experience replay the transitions are uniformly sampled during training and used to update the agent's learning policy. Prioritized replay [(Schaul et al. 2015)](https://arxiv.org/pdf/1511.05952.pdf) is a variant of the experience replay buffer that prioritizes transitions based on the magnitude of the TD error, which is a measure of how much the agent's estimates of the action values deviate from the actual values. Transitions with a higher TD error are more important for learning, because they represent a greater deviation from the agent's current understanding of the environment. By prioritizing transitions with a higher TD error, the agent can more effectively learn from its experiences and improve its performance.\n",
    "\n",
    "To implement a prioritized replay buffer, we need to store not only the transitions themselves, but also the TD error for each transition. We will use a queue-like mechanism to prioritize the transitions based on their TD error, and sample transitions from the buffer using a priority-based sampling distribution. New transitions arrive with maximal priority in order to guarantee that all experience is seen at least once. This allows the agent to more effectively learn from rare or unusual transitions that might be overlooked in a standard experience replay buffer.\n",
    "\n",
    "There are two ways to prioritize transitions in the experience replay buffer based on the TD error: greedy prioritization and stochastic prioritization. When using greedy prioritization, the transitions with the highest TD errors are replayed more frequently, which can lead to overfitting and overlooking certain transitions. To address this issue, we will use a stochastic prioritization method that balances between greedy prioritization and uniform random sampling introducing more diversity in the sampled transitions.\n",
    "\n",
    "$$\n",
    "P(i) = \\frac{p_i^{\\alpha} + \\epsilon}{\\sum_{j=1}^{D} (p_j^{\\alpha} + \\epsilon)}\n",
    "$$\n",
    "\n",
    "Where $p_i > 0$ denotes the priority of transition $i$ with $i, j \\in D$, $D$ denotes the buffer data, $\\epsilon$ is a small positive constant and the exponent $\\alpha$ determines how much prioritization is used, with $\\alpha = 0$ corresponding to the uniform sampling.\n",
    "\n",
    "The estimation of the expected value with stochastic updates relies on those updates corresponding to the same distribution as its expectation. Prioritized replay introduces bias because it changes this distribution in an uncontrolled fashion, and therefore changes the solution that the estimates will converge to (even if the policy and state distribution are fixed). To compensate for non-uniform sampling scheme, prioritized experience replay leverages one more mechanism - importance sampling. To this end, when calculating loss over the batch transition TD error is weighted with an importance weight:\n",
    "\n",
    "\n",
    "$$\n",
    "\\mathcal{L}_{\\theta} = \\frac{1}{B} \\sum_{i=1}^{B} \\bigl( w_i * \\mathrm{TD}~(s_i, a_i, s^{'}_{i}) \\bigr)^{2}\n",
    "$$\n",
    "\n",
    "Where:\n",
    "\n",
    "$$\n",
    "w_i = \\big( \\frac{1}{D} \\cdot \\frac{1}{P(i)} \\big)^\\beta\n",
    "$$\n",
    "\n",
    "Which given $\\beta = 1$ fully compensates for the non uniform sampling. We will anneal values of $\\alpha$ and $\\beta$ towards 1 throughout the training.\n",
    "\n",
    "Managing priorities is often implemented via a Segment Tree. It allows us to be very efficient in sampling transitions, while creating a bit of overhead in writing new values. **You are not required to use segment tree, and no points will be subtracted for not using it. However we encourage to do it for better efficiency and shorter training time.** We provide you with the OpenAI implementation of a SegmentTree below. We recommend that you read a bit about segment trees before moving forward:\n",
    "\n",
    "1. https://www.geeksforgeeks.org/segment-tree-set-1-sum-of-given-range/\n",
    "2. https://github.com/openai/baselines/blob/master/baselines/common/segment_tree.py\n",
    "\n",
    "**Note that the priority queue will be much slower even with good implementation. This slow down is much less visible in image-based RL, where other parts of the compute pipeline are greatly more demanding.**"
   ]
  },
  {
   "cell_type": "code",
   "source": [
    "!wget https://raw.githubusercontent.com/openai/baselines/master/baselines/common/segment_tree.py"
   ],
   "metadata": {
    "id": "cBm8-bPtp6do"
   },
   "id": "cBm8-bPtp6do",
   "execution_count": 41,
   "outputs": [
    {
     "name": "stdout",
     "output_type": "stream",
     "text": [
      "--2023-01-29 23:37:19--  https://raw.githubusercontent.com/openai/baselines/master/baselines/common/segment_tree.py\r\n",
      "Loaded CA certificate '/etc/ssl/certs/ca-certificates.crt'\r\n",
      "Resolving raw.githubusercontent.com (raw.githubusercontent.com)... 2606:50c0:8001::154, 2606:50c0:8003::154, 2606:50c0:8000::154, ...\r\n",
      "Connecting to raw.githubusercontent.com (raw.githubusercontent.com)|2606:50c0:8001::154|:443... connected.\r\n",
      "HTTP request sent, awaiting response... 200 OK\r\n",
      "Length: 4899 (4.8K) [text/plain]\r\n",
      "Saving to: ‘segment_tree.py.1’\r\n",
      "\r\n",
      "segment_tree.py.1   100%[===================>]   4.78K  --.-KB/s    in 0s      \r\n",
      "\r\n",
      "2023-01-29 23:37:19 (81.3 MB/s) - ‘segment_tree.py.1’ saved [4899/4899]\r\n",
      "\r\n"
     ]
    }
   ]
  },
  {
   "cell_type": "code",
   "execution_count": 42,
   "outputs": [],
   "source": [
    "from segment_tree import MinSegmentTree, SumSegmentTree"
   ],
   "metadata": {
    "collapsed": false
   }
  },
  {
   "cell_type": "markdown",
   "id": "697c07aa",
   "metadata": {
    "id": "697c07aa"
   },
   "source": [
    "### Task 5.1 Implement PrioritizedBuffer \n",
    "Implement the **PrioritizedBuffer** class and the following methods:\n",
    "\n",
    "1. *add* - it should also manage the priorities in the trees\n",
    "2. *sample* - it should samples according to priorities and return importance weights\n",
    "3. *update_priorities* - it should update priorities in trees after performing DQN update\n",
    "4. *get_idx* - it should sample indices according to probability ditribution\n",
    "5. *calculate_weights* - it should calculate importance weights for given index\n",
    "\n",
    "No other method of the base class should be changed. "
   ]
  },
  {
   "cell_type": "code",
   "execution_count": 43,
   "id": "c9ea6c31",
   "metadata": {
    "id": "c9ea6c31"
   },
   "outputs": [],
   "source": [
    "class PrioritizedBuffer(ExperienceBuffer):    \n",
    "    def __init__(self, args, alpha, beta):\n",
    "        super(PrioritizedBuffer, self).__init__(args)\n",
    "        tree_capacity = 2\n",
    "        while tree_capacity < self.args.capacity:\n",
    "            tree_capacity *= 2\n",
    "        self.beta = beta \n",
    "        self.alpha = alpha\n",
    "\n",
    "        ################\n",
    "\n",
    "        self.td_errors = np.zeros((args.capacity, 1), dtype=np.float32)\n",
    "\n",
    "\n",
    "    def add(self, state, action, reward, next_state, terminal):\n",
    "        super(PrioritizedBuffer, self).add(state=state, action=action, reward=reward, next_state=next_state, terminal=terminal)\n",
    "        ################\n",
    "        # raise NotImplementedError(\"Put your code here.\")\n",
    "        ################\n",
    "                \n",
    "    def sample(self):\n",
    "        ################\n",
    "        raise NotImplementedError(\"Put your code here.\")\n",
    "        ################\n",
    "        return states, actions, rewards, next_states, terminals, idx, weights\n",
    "    \n",
    "    def update_priorities(self, idx, priorities):\n",
    "        ################\n",
    "        raise NotImplementedError(\"Put your code here.\")\n",
    "        ################\n",
    "                \n",
    "    def get_idx(self):\n",
    "        ################\n",
    "        raise NotImplementedError(\"Put your code here.\")\n",
    "        ################\n",
    "        return idxs\n",
    "    \n",
    "    def calculate_weight(self, idx):\n",
    "        ################\n",
    "        raise NotImplementedError(\"Put your code here.\")\n",
    "        ################\n",
    "        return weight"
   ]
  },
  {
   "cell_type": "markdown",
   "id": "73c22925",
   "metadata": {
    "id": "73c22925"
   },
   "source": [
    "### Task 5.2 Train PrioritizedDQN \n",
    "Implement the **PrioritizedDQN** class and its *update* method (no other method of the base class should be changed):"
   ]
  },
  {
   "cell_type": "code",
   "execution_count": 44,
   "id": "86de8b40",
   "metadata": {
    "id": "86de8b40"
   },
   "outputs": [],
   "source": [
    "class PrioritizedDQN(DQN):\n",
    "    def __init__(self, args, alpha=0.2, beta=0.2):\n",
    "        super(PrioritizedDQN, self).__init__(args)\n",
    "        self.buffer = PrioritizedBuffer(args, alpha, beta)\n",
    "        self.alpha = alpha\n",
    "        self.beta = beta\n",
    "        \n",
    "    def update(self):\n",
    "        states, actions, rewards, next_states, terminals, idx, weights = self.buffer.sample()\n",
    "        with torch.no_grad():\n",
    "            q_ns = torch.max(self.q_target(next_states), dim=1)[0].unsqueeze(1)\n",
    "        q_targets = rewards + (1-terminals) * self.args.discount * q_ns\n",
    "        self.optimizer.zero_grad()\n",
    "        q_values = self.q_net(states).gather(1, actions)\n",
    "        td_errors = nn.functional.smooth_l1_loss(q_values, q_targets, reduction='none')\n",
    "        loss = torch.mean(td_errors * weights)\n",
    "        loss.backward()\n",
    "        self.optimizer.step()\n",
    "        priorities = td_errors.detach().squeeze().cpu().tolist()\n",
    "        self.buffer.update_priorities(idx, priorities)\n",
    "        \n",
    "    def anneal(self, step):\n",
    "        super().anneal(step)\n",
    "        if step < self.args.anneal_steps:\n",
    "            self.buffer.alpha = ((1 - self.alpha)/self.args.anneal_steps)*step + self.alpha\n",
    "            self.buffer.beta = ((1 - self.beta)/self.args.anneal_steps)*step + self.beta\n",
    "        else:\n",
    "            pass\n",
    "\n",
    "    def reset(self):\n",
    "        super().reset()\n",
    "        self.buffer = PrioritizedBuffer(self.args, self.alpha, self.beta)  "
   ]
  },
  {
   "cell_type": "code",
   "execution_count": 45,
   "id": "96c9a63d",
   "metadata": {
    "id": "96c9a63d"
   },
   "outputs": [
    {
     "ename": "NotImplementedError",
     "evalue": "Put your code here.",
     "output_type": "error",
     "traceback": [
      "\u001B[0;31m---------------------------------------------------------------------------\u001B[0m",
      "\u001B[0;31mNotImplementedError\u001B[0m                       Traceback (most recent call last)",
      "Cell \u001B[0;32mIn [45], line 2\u001B[0m\n\u001B[1;32m      1\u001B[0m agent \u001B[38;5;241m=\u001B[39m PrioritizedDQN(args)\n\u001B[0;32m----> 2\u001B[0m results_dqn5 \u001B[38;5;241m=\u001B[39m \u001B[43mtrain_agent\u001B[49m\u001B[43m(\u001B[49m\u001B[43margs\u001B[49m\u001B[43m,\u001B[49m\u001B[43m \u001B[49m\u001B[43magent\u001B[49m\u001B[43m)\u001B[49m\n\u001B[1;32m      3\u001B[0m \u001B[38;5;66;03m# download_numpy(\"results_dqn5.npy\", results_dqn5)\u001B[39;00m\n\u001B[1;32m      4\u001B[0m results_dqn5\u001B[38;5;241m.\u001B[39mmean(\u001B[38;5;241m1\u001B[39m)[\u001B[38;5;241m-\u001B[39m\u001B[38;5;241m10\u001B[39m:]\u001B[38;5;241m.\u001B[39mmean()\n",
      "Cell \u001B[0;32mIn [24], line 17\u001B[0m, in \u001B[0;36mtrain_agent\u001B[0;34m(args, agent)\u001B[0m\n\u001B[1;32m     15\u001B[0m state \u001B[38;5;241m=\u001B[39m next_state\n\u001B[1;32m     16\u001B[0m \u001B[38;5;28;01mif\u001B[39;00m step \u001B[38;5;241m>\u001B[39m\u001B[38;5;241m=\u001B[39m args\u001B[38;5;241m.\u001B[39minit_steps:\n\u001B[0;32m---> 17\u001B[0m     \u001B[43magent\u001B[49m\u001B[38;5;241;43m.\u001B[39;49m\u001B[43mupdate\u001B[49m\u001B[43m(\u001B[49m\u001B[43m)\u001B[49m\n\u001B[1;32m     18\u001B[0m     \u001B[38;5;28;01mif\u001B[39;00m (step \u001B[38;5;241m+\u001B[39m \u001B[38;5;241m1\u001B[39m) \u001B[38;5;241m%\u001B[39m args\u001B[38;5;241m.\u001B[39mtarget_update_freq \u001B[38;5;241m==\u001B[39m \u001B[38;5;241m0\u001B[39m:\n\u001B[1;32m     19\u001B[0m         agent\u001B[38;5;241m.\u001B[39mupdate_target()\n",
      "Cell \u001B[0;32mIn [44], line 9\u001B[0m, in \u001B[0;36mPrioritizedDQN.update\u001B[0;34m(self)\u001B[0m\n\u001B[1;32m      8\u001B[0m \u001B[38;5;28;01mdef\u001B[39;00m \u001B[38;5;21mupdate\u001B[39m(\u001B[38;5;28mself\u001B[39m):\n\u001B[0;32m----> 9\u001B[0m     states, actions, rewards, next_states, terminals, idx, weights \u001B[38;5;241m=\u001B[39m \u001B[38;5;28;43mself\u001B[39;49m\u001B[38;5;241;43m.\u001B[39;49m\u001B[43mbuffer\u001B[49m\u001B[38;5;241;43m.\u001B[39;49m\u001B[43msample\u001B[49m\u001B[43m(\u001B[49m\u001B[43m)\u001B[49m\n\u001B[1;32m     10\u001B[0m     \u001B[38;5;28;01mwith\u001B[39;00m torch\u001B[38;5;241m.\u001B[39mno_grad():\n\u001B[1;32m     11\u001B[0m         q_ns \u001B[38;5;241m=\u001B[39m torch\u001B[38;5;241m.\u001B[39mmax(\u001B[38;5;28mself\u001B[39m\u001B[38;5;241m.\u001B[39mq_target(next_states), dim\u001B[38;5;241m=\u001B[39m\u001B[38;5;241m1\u001B[39m)[\u001B[38;5;241m0\u001B[39m]\u001B[38;5;241m.\u001B[39munsqueeze(\u001B[38;5;241m1\u001B[39m)\n",
      "Cell \u001B[0;32mIn [43], line 23\u001B[0m, in \u001B[0;36mPrioritizedBuffer.sample\u001B[0;34m(self)\u001B[0m\n\u001B[1;32m     21\u001B[0m \u001B[38;5;28;01mdef\u001B[39;00m \u001B[38;5;21msample\u001B[39m(\u001B[38;5;28mself\u001B[39m):\n\u001B[1;32m     22\u001B[0m     \u001B[38;5;66;03m################\u001B[39;00m\n\u001B[0;32m---> 23\u001B[0m     \u001B[38;5;28;01mraise\u001B[39;00m \u001B[38;5;167;01mNotImplementedError\u001B[39;00m(\u001B[38;5;124m\"\u001B[39m\u001B[38;5;124mPut your code here.\u001B[39m\u001B[38;5;124m\"\u001B[39m)\n\u001B[1;32m     24\u001B[0m     \u001B[38;5;66;03m################\u001B[39;00m\n\u001B[1;32m     25\u001B[0m     \u001B[38;5;28;01mreturn\u001B[39;00m states, actions, rewards, next_states, terminals, idx, weights\n",
      "\u001B[0;31mNotImplementedError\u001B[0m: Put your code here."
     ]
    }
   ],
   "source": [
    "agent = PrioritizedDQN(args)\n",
    "results_dqn5 = train_agent(args, agent)\n",
    "# download_numpy(\"results_dqn5.npy\", results_dqn5)\n",
    "results_dqn5.mean(1)[-10:].mean()"
   ]
  },
  {
   "cell_type": "markdown",
   "id": "69b90bf3",
   "metadata": {
    "id": "69b90bf3"
   },
   "source": [
    "## 6. (Almost) Rainbow\n",
    "The final thing we are left with is to combine all the improvements into a single agent [(Hessel 2017)](https://arxiv.org/pdf/1710.02298.pdf). To this end, you have to implement three classes:\n",
    "\n",
    "1. **RainbowBuffer** - experience buffer that combines nstep returns and priority-based sampling\n",
    "2. **RainbowQNetwork** - Q-network that uses noisy linear layers in a dueling setup\n",
    "3. **RainbowDQN** - DQN that combines all of the covered techniques\n",
    "\n",
    "![fig1](https://production-media.paperswithcode.com/methods/Screen_Shot_2020-07-07_at_9.14.13_PM_4fMCutg.png)"
   ]
  },
  {
   "cell_type": "markdown",
   "id": "c964c779",
   "metadata": {
    "id": "c964c779"
   },
   "source": [
    "### Task 6.1 Implement RainbowBuffer"
   ]
  },
  {
   "cell_type": "code",
   "execution_count": null,
   "id": "372a2972",
   "metadata": {
    "id": "372a2972"
   },
   "outputs": [],
   "source": [
    "from collections import deque \n",
    "\n",
    "class RainbowBuffer(ExperienceBuffer):\n",
    "    def __init__(self, args, nstep, alpha, beta):\n",
    "        super(RainbowBuffer, self).__init__(args)\n",
    "        tree_capacity = 1\n",
    "        while tree_capacity < self.args.capacity:\n",
    "            tree_capacity *= 2\n",
    "        self.sum_tree = SumSegmentTree(tree_capacity)\n",
    "        self.min_tree = MinSegmentTree(tree_capacity)\n",
    "        self.priority_cap = 1\n",
    "        self.alpha = alpha\n",
    "        self.beta = beta   \n",
    "        self.memories = deque(maxlen=nstep)\n",
    "        self.nstep = nstep \n",
    "        \n",
    "    def add(self, state, action, reward, next_state, terminal):\n",
    "        ################\n",
    "        raise NotImplementedError(\"Put your code here.\")\n",
    "        ################\n",
    "                \n",
    "    def sample(self):\n",
    "        ################\n",
    "        raise NotImplementedError(\"Put your code here.\")\n",
    "        ################\n",
    "        return states, actions, rewards, next_states, terminals, idx, weights\n",
    "    \n",
    "    def update_priorities(self, idx, priorities):\n",
    "        ################\n",
    "        raise NotImplementedError(\"Put your code here.\")\n",
    "        ################"
   ]
  },
  {
   "cell_type": "markdown",
   "id": "759b4524",
   "metadata": {
    "id": "759b4524"
   },
   "source": [
    "### Task 6.2 Implement RainbowQNetwork class "
   ]
  },
  {
   "cell_type": "code",
   "execution_count": null,
   "id": "9889f6ee",
   "metadata": {
    "id": "9889f6ee"
   },
   "outputs": [],
   "source": [
    "class RainbowQNetwork(nn.Module):\n",
    "    def __init__(self, args, std):\n",
    "        super(RainbowQNetwork, self).__init__()\n",
    "        ################\n",
    "        raise NotImplementedError(\"Put your code here.\")\n",
    "        ################\n",
    "        \n",
    "    def forward(self, x):\n",
    "        ################\n",
    "        raise NotImplementedError(\"Put your code here.\")\n",
    "        ################"
   ]
  },
  {
   "cell_type": "markdown",
   "id": "12406eb1",
   "metadata": {
    "id": "12406eb1"
   },
   "source": [
    "### Task 6.2 Implement and train RainbowDQN agent "
   ]
  },
  {
   "cell_type": "code",
   "execution_count": null,
   "id": "f3ee6f39",
   "metadata": {
    "id": "f3ee6f39"
   },
   "outputs": [],
   "source": [
    "class RainbowDQN(DQN):\n",
    "    def __init__(self, args, nstep=3, std=0.2, alpha=0.2, beta=0.2):\n",
    "        super(RainbowDQN, self).__init__(args)\n",
    "        self.buffer = RainbowBuffer(args, nstep, alpha, beta)\n",
    "        self.alpha = alpha\n",
    "        self.beta = beta\n",
    "        self.nstep = nstep \n",
    "        self.q_net = RainbowQNetwork(args, std).to(args.device)\n",
    "        self.q_target = RainbowQNetwork(args, std).to(args.device)\n",
    "        self.q_target.load_state_dict(self.q_net.state_dict())\n",
    "        self.optimizer = optim.Adam(self.q_net.parameters(), lr=args.learning_rate, eps=1e-5)\n",
    "        self.std = std\n",
    "        \n",
    "    def update(self):\n",
    "        ################\n",
    "        raise NotImplementedError(\"Put your code here.\")\n",
    "        ################\n",
    "        \n",
    "    def anneal(self, step):\n",
    "        if step < self.args.anneal_steps and step > self.args.init_steps:\n",
    "            self.buffer.alpha = ((1 - self.alpha)/self.args.anneal_steps)*step + self.alpha\n",
    "            self.buffer.beta = ((1 - self.beta)/self.args.anneal_steps)*step + self.beta\n",
    "        else:\n",
    "            pass\n",
    "\n",
    "    def get_action(self, state, exploration=True):\n",
    "        return torch.argmax(self.q_net(state)).item()\n",
    "    \n",
    "    def reset(self):\n",
    "        self.buffer = RainbowBuffer(self.args, self.nstep, self.alpha, self.beta) \n",
    "        self.q_net = RainbowQNetwork(self.args, self.std).to(self.args.device)\n",
    "        self.q_target = RainbowQNetwork(self.args, self.std).to(self.args.device)\n",
    "        self.q_target.load_state_dict(self.q_net.state_dict())\n",
    "        self.optimizer = optim.Adam(self.q_net.parameters(), lr=self.args.learning_rate, eps=1e-5)"
   ]
  },
  {
   "cell_type": "code",
   "execution_count": null,
   "id": "feb1c384",
   "metadata": {
    "id": "feb1c384"
   },
   "outputs": [],
   "source": [
    "agent = RainbowDQN(args)\n",
    "results_dqn6 = train_agent(args, agent)\n",
    "download_numpy(\"results_dqn6.npy\", results_dqn6)\n",
    "results_dqn6.mean(1)[-10:].mean()"
   ]
  },
  {
   "cell_type": "markdown",
   "id": "5a39b8c3",
   "metadata": {
    "id": "5a39b8c3"
   },
   "source": [
    "# Task 7 Plot collected results\n",
    "Plot evaluation performance with respect to number of frames for all versions of DQN (including raw one). Draw 90% confidence intervals for each line (see seaborn.lineplot)."
   ]
  },
  {
   "cell_type": "code",
   "execution_count": 46,
   "outputs": [
    {
     "data": {
      "text/plain": "<AxesSubplot: >"
     },
     "execution_count": 46,
     "metadata": {},
     "output_type": "execute_result"
    },
    {
     "data": {
      "text/plain": "<Figure size 640x480 with 1 Axes>",
      "image/png": "[encoded data removed]"
     },
     "metadata": {},
     "output_type": "display_data"
    }
   ],
   "source": [
    "import seaborn\n",
    "seaborn.lineplot(results_dq)"
   ],
   "metadata": {
    "collapsed": false
   }
  },
  {
   "cell_type": "code",
   "execution_count": null,
   "outputs": [],
   "source": [],
   "metadata": {
    "collapsed": false
   }
  }
 ],
 "metadata": {
  "kernelspec": {
   "display_name": "atp",
   "language": "python",
   "name": "python3"
  },
  "language_info": {
   "codemirror_mode": {
    "name": "ipython",
    "version": 3
   },
   "file_extension": ".py",
   "mimetype": "text/x-python",
   "name": "python",
   "nbconvert_exporter": "python",
   "pygments_lexer": "ipython3",
   "version": "3.8.13"
  },
  "vscode": {
   "interpreter": {
    "hash": "6809863f01cf54cb8cf26991fcf8425a337722d7d35212492765d6bf47d2da35"
   }
  },
  "colab": {
   "provenance": []
  },
  "gpuClass": "standard",
  "accelerator": "GPU"
 },
 "nbformat": 4,
 "nbformat_minor": 5
}

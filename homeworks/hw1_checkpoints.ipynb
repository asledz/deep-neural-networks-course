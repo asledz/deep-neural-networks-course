{
 "cells": [
  {
   "cell_type": "markdown",
   "source": [
    "# Checkpointing\n",
    "\n",
    "Your task is to implement checkpointing for a MLP using NumPy.\n",
    "\n",
    "You are free to use the implementation of a MLP and the backpropagation algorithm that you have developed during lab sessions.\n",
    "\n",
    "The key takeaway from this task is that with checkpointing we can trade off the computational resources needed to compute the forward pass of the network for the memory requirement needed to perform a backward pass in the network, which is often a major bottleneck when training large networks. In plain english, we can slightly increase the time required for training our network to save some of our GPU's precious memory.\n",
    "\n",
    "## What is checkpointing?\n",
    "\n",
    "The aim of checkpointing is to save every $n$-th layer's (e.g. every 2-nd layer's) forward result (instead of saving every layer's forward result as in plain backpropagation) and use these checkpoints for recomputing the forward pass of the network upon doing a backward pass. Checkpoint layers are kept in memory after the forward pass, while the remaining activations are recomputed at most once. After being recomputed, the non-checkpoint layers are kept in memory until they are no longer required."
   ],
   "metadata": {
    "collapsed": false,
    "id": "Bm6suK9mJi1n"
   }
  },
  {
   "cell_type": "markdown",
   "source": [
    "# What should be done\n",
    "\n",
    "1. Take the implementation a MLP trained with backpropagation. Analyze the algorithm with respect to the memory that is used by the algorithm with respect to the number of hidden layers.\n",
    "\n",
    "2. Implement a class NetworkWithCheckpointing that inherits from the Network class defined during lab sessions by:\n",
    "    a) implementing a method `forward_between_checkpoints` that will recompute the forward pass of the network using one of the checkpointed layers\n",
    "    b) override the method `backprop` to use only checkpointed layers and otherwise compute the activations using `forward_between_checkpoints` method and keep it in memory until no longer needed.\n",
    "\n",
    "3. Train your network with checkpoinintg on MNIST. Compare running times and memory usage with respect to the network without checkpointing.\n"
   ],
   "metadata": {
    "collapsed": false,
    "id": "RNeaiut3Ji1p"
   }
  },
  {
   "cell_type": "markdown",
   "source": [
    "# Implement Checkpointing for a MLP"
   ],
   "metadata": {
    "collapsed": false,
    "id": "JXCUE0p9Ji1q"
   }
  },
  {
   "cell_type": "code",
   "execution_count": 2,
   "outputs": [],
   "source": [
    "import random\n",
    "import numpy as np\n",
    "from torchvision import datasets, transforms"
   ],
   "metadata": {
    "id": "LP4bN8agJi1q"
   }
  },
  {
   "cell_type": "code",
   "execution_count": 3,
   "outputs": [
    {
     "name": "stdout",
     "output_type": "stream",
     "text": [
      "--2022-11-17 20:56:33--  https://s3.amazonaws.com/img-datasets/mnist.npz\r\n",
      "Loaded CA certificate '/etc/ssl/certs/ca-certificates.crt'\r\n",
      "Resolving s3.amazonaws.com (s3.amazonaws.com)... 52.216.177.69\r\n",
      "Connecting to s3.amazonaws.com (s3.amazonaws.com)|52.216.177.69|:443... connected.\r\n",
      "HTTP request sent, awaiting response... 200 OK\r\n",
      "Length: 11490434 (11M) [application/octet-stream]\r\n",
      "Saving to: ‘mnist.npz’\r\n",
      "\r\n",
      "mnist.npz           100%[===================>]  10.96M  7.02MB/s    in 1.6s    \r\n",
      "\r\n",
      "2022-11-17 20:56:36 (7.02 MB/s) - ‘mnist.npz’ saved [11490434/11490434]\r\n",
      "\r\n"
     ]
    }
   ],
   "source": [
    "!wget -O mnist.npz https://s3.amazonaws.com/img-datasets/mnist.npz"
   ],
   "metadata": {
    "id": "a3emZmjXJi1q",
    "outputId": "35565fd4-9b37-47db-c505-885212018569"
   }
  },
  {
   "cell_type": "code",
   "execution_count": 4,
   "outputs": [],
   "source": [
    "# Let's read the mnist dataset\n",
    "\n",
    "def load_mnist(path='mnist.npz'):\n",
    "    with np.load(path) as f:\n",
    "        x_train, _y_train = f['x_train'], f['y_train']\n",
    "        x_test, _y_test = f['x_test'], f['y_test']\n",
    "\n",
    "    x_train = x_train.reshape(-1, 28 * 28) / 255.\n",
    "    x_test = x_test.reshape(-1, 28 * 28) / 255.\n",
    "\n",
    "    y_train = np.zeros((_y_train.shape[0], 10))\n",
    "    y_train[np.arange(_y_train.shape[0]), _y_train] = 1\n",
    "\n",
    "    y_test = np.zeros((_y_test.shape[0], 10))\n",
    "    y_test[np.arange(_y_test.shape[0]), _y_test] = 1\n",
    "\n",
    "    return (x_train, y_train), (x_test, y_test)\n",
    "\n",
    "(x_train, y_train), (x_test, y_test) = load_mnist()"
   ],
   "metadata": {
    "id": "7srDUPiQJi1r"
   }
  },
  {
   "cell_type": "markdown",
   "source": [
    "### Subtask 1:  Take the implementation a MLP trained with backpropagation. Analyze the algorithm with respect to the memory that is used by the algorithm with respect to the number of hidden layers."
   ],
   "metadata": {
    "collapsed": false
   }
  },
  {
   "cell_type": "code",
   "execution_count": 13,
   "outputs": [],
   "source": [
    "def sigmoid(z):\n",
    "    return 1.0/(1.0+np.exp(-z))\n",
    "\n",
    "def sigmoid_prime(z):\n",
    "    # Derivative of the sigmoid\n",
    "    return sigmoid(z)*(1-sigmoid(z))\n",
    "\n",
    "class Network(object):\n",
    "    def __init__(self, sizes):\n",
    "        # initialize biases and weights with random normal distr.\n",
    "        # weights are indexed by target node first\n",
    "        self.num_layers = len(sizes)\n",
    "        self.sizes = sizes\n",
    "        self.biases = [np.random.randn(y, 1) for y in sizes[1:]]\n",
    "        self.weights = [np.random.randn(y, x)\n",
    "                        for x, y in zip(sizes[:-1], sizes[1:])]\n",
    "\n",
    "    def feedforward(self, a):\n",
    "        # Run the network on a batch\n",
    "        a = a.T\n",
    "        for b, w in zip(self.biases, self.weights):\n",
    "            a = sigmoid(np.matmul(w, a)+b)\n",
    "        return a\n",
    "\n",
    "    def update_mini_batch(self, mini_batch, eta):\n",
    "        # Update networks weights and biases by applying a single step\n",
    "        # of gradient descent using backpropagation to compute the gradient.\n",
    "        # The gradient is computed for a mini_batch which is as in tensorflow API.\n",
    "        # eta is the learning rate\n",
    "        nabla_b, nabla_w = self.backprop(mini_batch[0].T,mini_batch[1].T)\n",
    "\n",
    "        self.weights = [w-(eta/len(mini_batch[0]))*nw\n",
    "                        for w, nw in zip(self.weights, nabla_w)]\n",
    "        self.biases = [b-(eta/len(mini_batch[0]))*nb\n",
    "                       for b, nb in zip(self.biases, nabla_b)]\n",
    "\n",
    "    def backprop(self, x, y):\n",
    "        # For a single input (x,y) return a pair of lists.\n",
    "        # First contains gradients over biases, second over weights.\n",
    "        g = x\n",
    "        gs = [g] # list to store all the gs, layer by layer\n",
    "        fs = [] # list to store all the fs, layer by layer\n",
    "        for b, w in zip(self.biases, self.weights):\n",
    "            f = np.dot(w, g)+b\n",
    "            fs.append(f)\n",
    "            g = sigmoid(f)\n",
    "            gs.append(g)\n",
    "        # backward pass <- both steps at once\n",
    "        dLdg = self.cost_derivative(gs[-1], y)\n",
    "        dLdfs = []\n",
    "        for w,g in reversed(list(zip(self.weights,gs[1:]))):\n",
    "            dLdf = np.multiply(dLdg,np.multiply(g,1-g))\n",
    "            dLdfs.append(dLdf)\n",
    "            dLdg = np.matmul(w.T, dLdf)\n",
    "\n",
    "        dLdWs = [np.matmul(dLdf,g.T) for dLdf,g in zip(reversed(dLdfs),gs[:-1])]\n",
    "        dLdBs = [np.sum(dLdf,axis=1).reshape(dLdf.shape[0],1) for dLdf in reversed(dLdfs)]\n",
    "        return (dLdBs,dLdWs)\n",
    "\n",
    "    def evaluate(self, test_data):\n",
    "        # Count the number of correct answers for test_data\n",
    "        pred = np.argmax(self.feedforward(test_data[0]),axis=0)\n",
    "        corr = np.argmax(test_data[1],axis=1).T\n",
    "        return np.mean(pred==corr)\n",
    "\n",
    "    def cost_derivative(self, output_activations, y):\n",
    "        return (output_activations-y)\n",
    "\n",
    "    def SGD(self, training_data, epochs, mini_batch_size, eta, test_data=None):\n",
    "        x_train, y_train = training_data\n",
    "        if test_data:\n",
    "            x_test, y_test = test_data\n",
    "        for j in range(epochs):\n",
    "            for i in range(x_train.shape[0] // mini_batch_size):\n",
    "                x_mini_batch = x_train[(mini_batch_size*i):(mini_batch_size*(i+1))]\n",
    "                y_mini_batch = y_train[(mini_batch_size*i):(mini_batch_size*(i+1))]\n",
    "                self.update_mini_batch((x_mini_batch, y_mini_batch), eta)\n",
    "            if test_data:\n",
    "                print(\"Epoch: {0}, Accuracy: {1}\".format(j, self.evaluate((x_test, y_test))))\n",
    "            else:\n",
    "                print(\"Epoch: {0}\".format(j))"
   ],
   "metadata": {
    "id": "MeNu0kwwJi1r"
   }
  },
  {
   "cell_type": "code",
   "execution_count": 12,
   "outputs": [
    {
     "name": "stdout",
     "output_type": "stream",
     "text": [
      "Epoch: 0, Accuracy: 0.5978\n",
      "Epoch: 1, Accuracy: 0.7027\n",
      "Epoch: 2, Accuracy: 0.7178\n",
      "Epoch: 3, Accuracy: 0.7268\n",
      "Epoch: 4, Accuracy: 0.7328\n",
      "Epoch: 5, Accuracy: 0.7381\n",
      "Epoch: 6, Accuracy: 0.7411\n",
      "Epoch: 7, Accuracy: 0.7442\n",
      "Epoch: 8, Accuracy: 0.7461\n",
      "Epoch: 9, Accuracy: 0.7478\n",
      "Epoch: 10, Accuracy: 0.7498\n",
      "Epoch: 11, Accuracy: 0.751\n",
      "Epoch: 12, Accuracy: 0.7514\n",
      "Epoch: 13, Accuracy: 0.7516\n",
      "Epoch: 14, Accuracy: 0.7528\n",
      "Epoch: 15, Accuracy: 0.7538\n",
      "Epoch: 16, Accuracy: 0.7542\n",
      "Epoch: 17, Accuracy: 0.7551\n",
      "Epoch: 18, Accuracy: 0.7549\n",
      "Epoch: 19, Accuracy: 0.7551\n",
      "Epoch: 20, Accuracy: 0.7555\n",
      "Epoch: 21, Accuracy: 0.7562\n",
      "Epoch: 22, Accuracy: 0.7568\n",
      "Epoch: 23, Accuracy: 0.7571\n",
      "Epoch: 24, Accuracy: 0.7571\n",
      "Epoch: 25, Accuracy: 0.7575\n",
      "Epoch: 26, Accuracy: 0.7579\n",
      "Epoch: 27, Accuracy: 0.7583\n",
      "Epoch: 28, Accuracy: 0.7581\n",
      "Epoch: 29, Accuracy: 0.7581\n",
      "Epoch: 30, Accuracy: 0.7587\n",
      "Epoch: 31, Accuracy: 0.7592\n",
      "Epoch: 32, Accuracy: 0.7601\n",
      "Epoch: 33, Accuracy: 0.76\n",
      "Epoch: 34, Accuracy: 0.7602\n",
      "Epoch: 35, Accuracy: 0.7606\n",
      "Epoch: 36, Accuracy: 0.7609\n",
      "Epoch: 37, Accuracy: 0.7609\n",
      "Epoch: 38, Accuracy: 0.7611\n",
      "Epoch: 39, Accuracy: 0.7614\n",
      "Epoch: 40, Accuracy: 0.7615\n",
      "Epoch: 41, Accuracy: 0.7617\n",
      "Epoch: 42, Accuracy: 0.7618\n",
      "Epoch: 43, Accuracy: 0.7619\n",
      "Epoch: 44, Accuracy: 0.7617\n",
      "Epoch: 45, Accuracy: 0.7622\n",
      "Epoch: 46, Accuracy: 0.7627\n",
      "Epoch: 47, Accuracy: 0.7626\n",
      "Epoch: 48, Accuracy: 0.7625\n",
      "Epoch: 49, Accuracy: 0.7627\n",
      "Epoch: 50, Accuracy: 0.7631\n",
      "Epoch: 51, Accuracy: 0.763\n",
      "Epoch: 52, Accuracy: 0.7631\n",
      "Epoch: 53, Accuracy: 0.7633\n",
      "Epoch: 54, Accuracy: 0.7635\n",
      "Epoch: 55, Accuracy: 0.7631\n",
      "Epoch: 56, Accuracy: 0.7634\n",
      "Epoch: 57, Accuracy: 0.7635\n",
      "Epoch: 58, Accuracy: 0.7635\n",
      "Epoch: 59, Accuracy: 0.7635\n",
      "Epoch: 60, Accuracy: 0.7648\n",
      "Epoch: 61, Accuracy: 0.7742\n",
      "Epoch: 62, Accuracy: 0.8534\n",
      "Epoch: 63, Accuracy: 0.8554\n",
      "Epoch: 64, Accuracy: 0.856\n",
      "Epoch: 65, Accuracy: 0.8556\n",
      "Epoch: 66, Accuracy: 0.8556\n",
      "Epoch: 67, Accuracy: 0.8557\n",
      "Epoch: 68, Accuracy: 0.8557\n",
      "Epoch: 69, Accuracy: 0.8559\n",
      "Epoch: 70, Accuracy: 0.8561\n",
      "Epoch: 71, Accuracy: 0.8559\n",
      "Epoch: 72, Accuracy: 0.8557\n",
      "Epoch: 73, Accuracy: 0.856\n",
      "Epoch: 74, Accuracy: 0.8564\n",
      "Epoch: 75, Accuracy: 0.8564\n",
      "Epoch: 76, Accuracy: 0.8563\n",
      "Epoch: 77, Accuracy: 0.8563\n",
      "Epoch: 78, Accuracy: 0.8564\n",
      "Epoch: 79, Accuracy: 0.8566\n",
      "Epoch: 80, Accuracy: 0.8568\n",
      "Epoch: 81, Accuracy: 0.8571\n",
      "Epoch: 82, Accuracy: 0.8572\n",
      "Epoch: 83, Accuracy: 0.857\n",
      "Epoch: 84, Accuracy: 0.857\n",
      "Epoch: 85, Accuracy: 0.8571\n",
      "Epoch: 86, Accuracy: 0.857\n",
      "Epoch: 87, Accuracy: 0.8568\n",
      "Epoch: 88, Accuracy: 0.8568\n",
      "Epoch: 89, Accuracy: 0.8569\n",
      "Epoch: 90, Accuracy: 0.8572\n",
      "Epoch: 91, Accuracy: 0.8572\n",
      "Epoch: 92, Accuracy: 0.8574\n",
      "Epoch: 93, Accuracy: 0.8573\n",
      "Epoch: 94, Accuracy: 0.8574\n",
      "Epoch: 95, Accuracy: 0.8578\n",
      "Epoch: 96, Accuracy: 0.8581\n",
      "Epoch: 97, Accuracy: 0.8583\n",
      "Epoch: 98, Accuracy: 0.8584\n",
      "Epoch: 99, Accuracy: 0.8584\n"
     ]
    }
   ],
   "source": [
    "network = Network([784,30,10])\n",
    "network.SGD((x_train, y_train), epochs=100, mini_batch_size=100, eta=3.0, test_data=(x_test, y_test))"
   ],
   "metadata": {
    "collapsed": false
   }
  },
  {
   "cell_type": "markdown",
   "source": [
    "### Memory analysis of a MLP trained with backpropagation\n",
    "\n",
    "\n"
   ],
   "metadata": {
    "collapsed": false
   }
  },
  {
   "cell_type": "code",
   "execution_count": null,
   "outputs": [],
   "source": [
    "class NetworkWithCheckpointing(Network):\n",
    "\n",
    "    def __init__(self, sizes, checkpoint_every_nth_layer: int = 0, *args, **kwargs):\n",
    "        super().__init__(sizes, *args, **kwargs)\n",
    "        self.skip_distance = checkpoint_every_nth_layer\n",
    "\n",
    "    def forward_between_checkpoints(self, a, checkpoint_idx_start, layer_idx_end):\n",
    "        ##########################\n",
    "        ### Your solution here ###\n",
    "        ##########################\n",
    "        pass\n",
    "\n",
    "    def backprop(self, x, y):\n",
    "        g = x\n",
    "        gs = [g]\n",
    "        step_counter = 0;\n",
    "        for b, w in zip(self.biases, self.weights):\n",
    "            f = np.dot(w, g)+b\n",
    "            g = sigmoid(f)\n",
    "            # gs.append(g)\n",
    "            if step_counter % self.skip_distance == 0:\n",
    "                gs.append(g)\n",
    "\n",
    "        # backward pass <- both steps at once\n",
    "        dLdg = self.cost_derivative(gs[-1], y)\n",
    "        dLdfs = []\n",
    "        for w,g in reversed(list(zip(self.weights,gs[1:]))):\n",
    "            dLdf = np.multiply(dLdg,np.multiply(g,1-g))\n",
    "            dLdfs.append(dLdf)\n",
    "            dLdg = np.matmul(w.T, dLdf)\n",
    "\n",
    "        dLdWs = [np.matmul(dLdf,g.T) for dLdf,g in zip(reversed(dLdfs),gs[:-1])]\n",
    "        dLdBs = [np.sum(dLdf,axis=1).reshape(dLdf.shape[0],1) for dLdf in reversed(dLdfs)]\n",
    "        return (dLdBs,dLdWs)\n",
    "\n",
    "\n",
    "        pass\n"
   ],
   "metadata": {
    "id": "857Yu-ZiJi1r"
   }
  }
 ],
 "metadata": {
  "kernelspec": {
   "display_name": "Python 3",
   "language": "python",
   "name": "python3"
  },
  "language_info": {
   "codemirror_mode": {
    "name": "ipython",
    "version": 2
   },
   "file_extension": ".py",
   "mimetype": "text/x-python",
   "name": "python",
   "nbconvert_exporter": "python",
   "pygments_lexer": "ipython2",
   "version": "2.7.6"
  },
  "colab": {
   "provenance": []
  }
 },
 "nbformat": 4,
 "nbformat_minor": 0
}
